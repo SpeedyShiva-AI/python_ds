{
 "cells": [
  {
   "cell_type": "code",
   "execution_count": 1,
   "id": "9e8c0565",
   "metadata": {},
   "outputs": [
    {
     "name": "stdout",
     "output_type": "stream",
     "text": [
      "dlrow olleh\n"
     ]
    }
   ],
   "source": [
    "#1\n",
    "org_str=\"hello world\"\n",
    "rev_str=org_str[::-1]\n",
    "print(rev_str)"
   ]
  },
  {
   "cell_type": "code",
   "execution_count": 2,
   "id": "ec705d6d",
   "metadata": {},
   "outputs": [
    {
     "name": "stdout",
     "output_type": "stream",
     "text": [
      "4\n"
     ]
    }
   ],
   "source": [
    "#2\n",
    "string=\"Eduforall\"\n",
    "count=0\n",
    "# vowel=['a','e','i','o','u']\n",
    "for i in string.lower():\n",
    "    if i in \"aeiou\":\n",
    "        count+=1\n",
    "print(count)"
   ]
  },
  {
   "cell_type": "code",
   "execution_count": 17,
   "id": "f2e36f24",
   "metadata": {},
   "outputs": [
    {
     "name": "stdout",
     "output_type": "stream",
     "text": [
      "True\n"
     ]
    }
   ],
   "source": [
    "#3\n",
    "my_string=\"NamaN\"\n",
    "boolean=my_string==my_string[::-1]\n",
    "print(boolean)\n",
    "\n"
   ]
  },
  {
   "cell_type": "code",
   "execution_count": 18,
   "id": "da724419",
   "metadata": {},
   "outputs": [
    {
     "name": "stdout",
     "output_type": "stream",
     "text": [
      "True\n"
     ]
    }
   ],
   "source": [
    "#4\n",
    "string1=\"listeN\"\n",
    "string2=\"silent\"\n",
    "anagram=sorted(string1.lower())==sorted(string2.lower())\n",
    "print(anagram)"
   ]
  },
  {
   "cell_type": "code",
   "execution_count": 20,
   "id": "d918635d",
   "metadata": {},
   "outputs": [
    {
     "name": "stdout",
     "output_type": "stream",
     "text": [
      "['a1', 'b2', 'c3', 'd2', 'e1', 'f2', 'g2']\n"
     ]
    }
   ],
   "source": [
    "#6\n",
    "s=\"abbcccddeffgg\"\n",
    "count=1\n",
    "compressed=[]\n",
    "for i in range(1,len(s)):\n",
    "    if s[i]==s[i-1]:\n",
    "        count+=1\n",
    "    else:\n",
    "        compressed.append(s[i-1]+str(count))\n",
    "        count=1\n",
    "        \n",
    "compressed.append(s[-1]+str(count))\n",
    "\n",
    "print(str(compressed))\n",
    "    \n",
    "\n"
   ]
  },
  {
   "cell_type": "code",
   "execution_count": 21,
   "id": "0277f90a",
   "metadata": {},
   "outputs": [
    {
     "name": "stdout",
     "output_type": "stream",
     "text": [
      "False\n"
     ]
    }
   ],
   "source": [
    "#7\n",
    "s=\"abcdd123\"\n",
    "\n",
    "# boolean=len(s) == len(set(s))  \n",
    "# print(boolean)\n",
    "\n",
    "bool=True\n",
    "for i in range(len(s)-1):\n",
    "    if s[i]==s[i+1]:\n",
    "        bool=False\n",
    "print(bool)    \n",
    "    \n"
   ]
  },
  {
   "cell_type": "code",
   "execution_count": 22,
   "id": "bcb13f14",
   "metadata": {},
   "outputs": [
    {
     "name": "stdout",
     "output_type": "stream",
     "text": [
      "NAME\n",
      "name\n"
     ]
    }
   ],
   "source": [
    "#8\n",
    "s=\"NAme\"\n",
    "print(s.upper())\n",
    "print(s.lower())"
   ]
  },
  {
   "cell_type": "code",
   "execution_count": 23,
   "id": "fe14cbb7",
   "metadata": {},
   "outputs": [
    {
     "name": "stdout",
     "output_type": "stream",
     "text": [
      "3\n"
     ]
    }
   ],
   "source": [
    "#9\n",
    "s='jupyter , notebook , 321'\n",
    "word_count=len(s.split(','))    \n",
    "print(word_count)"
   ]
  },
  {
   "cell_type": "code",
   "execution_count": 24,
   "id": "f213ed40",
   "metadata": {},
   "outputs": [
    {
     "data": {
      "text/plain": [
       "'subhashchandrabose'"
      ]
     },
     "execution_count": 24,
     "metadata": {},
     "output_type": "execute_result"
    }
   ],
   "source": [
    "#10\n",
    "s1=\"subhashchandra\"\n",
    "s2=\"bose\"\n",
    "\n",
    "# s3=f\"{s1}{s2}\"\n",
    "# s3\n",
    "\n",
    "s3=\"{}{}\"\n",
    "s3=s3.format(s1,s2)\n",
    "s3"
   ]
  },
  {
   "cell_type": "code",
   "execution_count": 25,
   "id": "af0501f9",
   "metadata": {},
   "outputs": [
    {
     "name": "stdout",
     "output_type": "stream",
     "text": [
      "[1, 2, 4, 5]\n"
     ]
    }
   ],
   "source": [
    "#11\n",
    "lst = [1, 2, 3, 4, 3, 5]\n",
    "element = 3\n",
    "for i in lst:\n",
    "    if i==element:\n",
    "        lst.remove(element)\n",
    "print(lst)\n",
    "# filter=[x for x in lst if x!=element]\n",
    "# print(filter)"
   ]
  },
  {
   "cell_type": "code",
   "execution_count": 26,
   "id": "6673a35b",
   "metadata": {},
   "outputs": [
    {
     "name": "stdout",
     "output_type": "stream",
     "text": [
      "22\n"
     ]
    }
   ],
   "source": [
    "#12\n",
    "\n",
    "#1st\n",
    "lst=[10,22,22,5,67,67]\n",
    "unique_number=list(set(lst))\n",
    "unique_number.remove(max(unique_number))\n",
    "\n",
    "print(max(unique_number))\n",
    "    \n",
    "#2nd\n",
    "# lst.sort()\n",
    "\n"
   ]
  },
  {
   "cell_type": "code",
   "execution_count": 27,
   "id": "5ef69536",
   "metadata": {},
   "outputs": [
    {
     "name": "stdout",
     "output_type": "stream",
     "text": [
      "{1: 1, 2: 1, 3: 3, 4: 2, 5: 1, 6: 2}\n"
     ]
    }
   ],
   "source": [
    "#13\n",
    "lst=[1,3,2,4,3,3,4,5,6,6]\n",
    "lst=sorted(lst)\n",
    "count={}\n",
    "c=1\n",
    "for i in range(1,len(lst)):\n",
    "    if lst[i]==lst[i-1]:\n",
    "        c=c+1\n",
    "    else:\n",
    "        count[lst[i-1]]=c\n",
    "        c=1\n",
    "count[lst[i-1]]=c\n",
    "print(count)\n",
    "\n",
    "\n"
   ]
  },
  {
   "cell_type": "code",
   "execution_count": 28,
   "id": "87cb610b",
   "metadata": {},
   "outputs": [
    {
     "name": "stdout",
     "output_type": "stream",
     "text": [
      "[6, 5, 4, 3, 2, 1]\n"
     ]
    }
   ],
   "source": [
    "#14\n",
    "lst=[1,2,3,4,5,6]\n",
    "st=0\n",
    "end=len(lst)-1\n",
    "while(st<end):\n",
    "    lst[st],lst[end]=lst[end],lst[st]\n",
    "    st+=1\n",
    "    end-=1\n",
    "print(lst)\n",
    "\n"
   ]
  },
  {
   "cell_type": "code",
   "execution_count": 29,
   "id": "891a744d",
   "metadata": {},
   "outputs": [
    {
     "name": "stdout",
     "output_type": "stream",
     "text": [
      "[1, 2, 3, 4, 5]\n"
     ]
    }
   ],
   "source": [
    "#15\n",
    "lst=[1,2,3,2,4,1,4,5]\n",
    "unique=[]\n",
    "for i in lst:\n",
    "    if i not in unique:\n",
    "        unique.append(i)\n",
    "print(unique)"
   ]
  },
  {
   "cell_type": "code",
   "execution_count": 30,
   "id": "47b0729e",
   "metadata": {},
   "outputs": [
    {
     "name": "stdout",
     "output_type": "stream",
     "text": [
      "False\n"
     ]
    }
   ],
   "source": [
    "#16\n",
    "lst=[1,3,4,2,7,6,8,2]\n",
    "\n",
    "is_sorted= lst== sorted(lst)or lst==sorted(lst,reverse=True)\n",
    "print(is_sorted)\n",
    "     \n",
    "    "
   ]
  },
  {
   "cell_type": "code",
   "execution_count": 31,
   "id": "5c629670",
   "metadata": {},
   "outputs": [
    {
     "name": "stdout",
     "output_type": "stream",
     "text": [
      "[1, 2, 2, 3, 3, 4, 4, 5]\n"
     ]
    }
   ],
   "source": [
    "#17\n",
    "lst1=[1,2,3,4]\n",
    "lst2=[2,3,4,5]\n",
    "\n",
    "list3=[]\n",
    "list3.extend(lst1+lst2)\n",
    "list3=sorted(list3)\n",
    "print(list3)\n",
    "\n"
   ]
  },
  {
   "cell_type": "code",
   "execution_count": 32,
   "id": "fb158416",
   "metadata": {},
   "outputs": [
    {
     "name": "stdout",
     "output_type": "stream",
     "text": [
      "[2, 3, 4]\n"
     ]
    }
   ],
   "source": [
    "#18\n",
    "intersection_list=[]\n",
    "intersection_list=list(set(lst1) & set(lst2))\n",
    "print(intersection_list)"
   ]
  },
  {
   "cell_type": "code",
   "execution_count": 33,
   "id": "d45b68a5",
   "metadata": {},
   "outputs": [
    {
     "name": "stdout",
     "output_type": "stream",
     "text": [
      "[1, 2, 3, 4, 5]\n"
     ]
    }
   ],
   "source": [
    "#19\n",
    "lst1=[1,2,3,4]\n",
    "lst2=[2,3,4,5]\n",
    "\n",
    "union_list= list( set(lst1) | set(lst2))\n",
    "print(union_list)"
   ]
  },
  {
   "cell_type": "code",
   "execution_count": 34,
   "id": "23da2fb8",
   "metadata": {},
   "outputs": [
    {
     "name": "stdout",
     "output_type": "stream",
     "text": [
      "[2, 3, 4, 5, 1]\n"
     ]
    }
   ],
   "source": [
    "#20\n",
    "import random\n",
    "lst=[1,2,3,4,5]\n",
    "\n",
    "n=len(lst)\n",
    "for i in range(n):\n",
    "    j=random.randint(0,n-1)\n",
    "    lst[i],lst[j]=lst[j],lst[i]\n",
    "    \n",
    "print(lst)    "
   ]
  },
  {
   "cell_type": "code",
   "execution_count": 35,
   "id": "a9cb835a",
   "metadata": {},
   "outputs": [
    {
     "name": "stdout",
     "output_type": "stream",
     "text": [
      "(3, 4)\n"
     ]
    }
   ],
   "source": [
    "#21\n",
    "t1 = (1, 2, 3, 4)\n",
    "t2 = (3, 4, 5, 6)\n",
    "intersection_tuple = tuple(set(t1) & set(t2))\n",
    "print(intersection_tuple)"
   ]
  },
  {
   "cell_type": "code",
   "execution_count": 36,
   "id": "0a901daf",
   "metadata": {},
   "outputs": [
    {
     "name": "stdout",
     "output_type": "stream",
     "text": [
      "enter first set of integers separated by commas:1 ,2,3,4,5\n",
      "enter second set of integers separated by commas:2,3,6,7\n",
      "{2, 3}\n"
     ]
    }
   ],
   "source": [
    "# 22\n",
    "set1=set(\n",
    "    [int(x) for x in input(\"enter first set of integers separated by commas:\").split(\",\")] \n",
    ")\n",
    "set2=set(\n",
    "    [int(x) for x in input(\"enter second set of integers separated by commas:\").split(\",\")] \n",
    ")\n",
    "print(set1 & set2)"
   ]
  },
  {
   "cell_type": "code",
   "execution_count": 7,
   "id": "0ef23bc5",
   "metadata": {},
   "outputs": [
    {
     "data": {
      "text/plain": [
       "(1, 3, 5, 2, 4, 6)"
      ]
     },
     "execution_count": 7,
     "metadata": {},
     "output_type": "execute_result"
    }
   ],
   "source": [
    "#23\n",
    "def concatenate(tuple1,tuple2):\n",
    "    return tuple1+tuple2\n",
    "\n",
    "tuple1=(1,3,5)\n",
    "tuple2=(2,4,6)\n",
    "concatenate(tuple1,tuple2)"
   ]
  },
  {
   "cell_type": "code",
   "execution_count": 6,
   "id": "a830c0c1",
   "metadata": {},
   "outputs": [
    {
     "name": "stdout",
     "output_type": "stream",
     "text": [
      "enter first string element setapple,orange,banana\n",
      "enter second string element setbanana,guaava\n",
      "{'orange', 'apple'}\n"
     ]
    }
   ],
   "source": [
    "#24\n",
    "set1=set(input(\"enter first string element set\").split(\",\"))\n",
    "set2=set(input(\"enter second string element set\").split(\",\"))\n",
    "print(set1 - set2)"
   ]
  },
  {
   "cell_type": "code",
   "execution_count": 5,
   "id": "3beb44a8",
   "metadata": {},
   "outputs": [
    {
     "data": {
      "text/plain": [
       "(45, 67, 45)"
      ]
     },
     "execution_count": 5,
     "metadata": {},
     "output_type": "execute_result"
    }
   ],
   "source": [
    "#25\n",
    "def get_tuple(tup,st,end):\n",
    "    return tup[st:end]\n",
    "\n",
    "tup=(12,90,45,67,45,23,89)\n",
    "get_tuple(tup,2,5)"
   ]
  },
  {
   "cell_type": "code",
   "execution_count": 4,
   "id": "38fee969",
   "metadata": {},
   "outputs": [
    {
     "name": "stdout",
     "output_type": "stream",
     "text": [
      "enter one string of set1 :abcd\n",
      "enter one string of set2:efgha\n",
      "{'d', 'c', 'e', 'g', 'a', 'f', 'h', 'b'}\n"
     ]
    }
   ],
   "source": [
    "#26\n",
    "set1=set([x for x in input(\"enter one string of set1 :\")])\n",
    "set2=set([x for x in input(\"enter one string of set2:\")])\n",
    "print(set1 | set2)"
   ]
  },
  {
   "cell_type": "code",
   "execution_count": 1,
   "id": "8a27a5ea",
   "metadata": {},
   "outputs": [
    {
     "name": "stdout",
     "output_type": "stream",
     "text": [
      "Enter a tuple of integers separated by commas: 12 43 21 35 6\n",
      "Maximun: 43 ,Minimun: 6\n"
     ]
    }
   ],
   "source": [
    "#27\n",
    "tuple_input = tuple(map(int, input(\"Enter a tuple of integers : \").split()))\n",
    "max,min=max(tuple_input),min(tuple_input) \n",
    "\n",
    "print(\"Maximun:\",max,\",Minimun:\",min)"
   ]
  },
  {
   "cell_type": "code",
   "execution_count": 2,
   "id": "a50dc2df",
   "metadata": {},
   "outputs": [
    {
     "name": "stdout",
     "output_type": "stream",
     "text": [
      "Enter first set of integers separated by commas: 12 , 23, 34, 45\n",
      "Enter second set of integers separated by commas: 56,67,78\n",
      "Union: {34, 67, 23, 56, 12, 45, 78}\n",
      "Intersection: set()\n",
      "Difference: {34, 12, 45, 23}\n"
     ]
    }
   ],
   "source": [
    "#28\n",
    "set1 = set(map(int, input(\"Enter first set of integers separated by commas: \").split(',')))\n",
    "set2 = set(map(int, input(\"Enter second set of integers separated by commas: \").split(',')))\n",
    "\n",
    "union_set = set1 | set2\n",
    "intersection_set = set1 & set2\n",
    "difference_set = set1 - set2\n",
    "\n",
    "print(\"Union:\", union_set)\n",
    "print(\"Intersection:\", intersection_set)\n",
    "print(\"Difference:\", difference_set)"
   ]
  },
  {
   "cell_type": "code",
   "execution_count": 2,
   "id": "c25cbf7b",
   "metadata": {},
   "outputs": [
    {
     "name": "stdout",
     "output_type": "stream",
     "text": [
      "Enter a tuple of integers separated by commas: 12,0,9,8,7,12,4,0\n",
      "Enter the element to count: 0\n",
      "Occurrences: 2\n"
     ]
    }
   ],
   "source": [
    "#29\n",
    "\n",
    "\n",
    "\n",
    "\n",
    "tuple_input = tuple(map(int, input(\"Enter a tuple of integers separated by commas: \").split(',')))\n",
    "element = int(input(\"Enter the element to count: \"))\n",
    "count = tuple_input.count(element)\n",
    "print(\"Occurrences:\", count)\n",
    "\n"
   ]
  },
  {
   "cell_type": "code",
   "execution_count": 3,
   "id": "7bd6bacc",
   "metadata": {},
   "outputs": [
    {
     "name": "stdout",
     "output_type": "stream",
     "text": [
      "Enter first set of strings separated by commas: 12,23,34,45\n",
      "Enter second set of strings separated by commas: 12,43,32,5\n",
      "Symmetric difference: {'23', '32', '45', '34', '5', '43'}\n"
     ]
    }
   ],
   "source": [
    "#30\n",
    "\n",
    "\n",
    "set1 = set(input(\"Enter first set of strings separated by commas: \").split(','))\n",
    "set2 = set(input(\"Enter second set of strings separated by commas: \").split(','))\n",
    "symmetric_difference = set1 ^ set2\n",
    "print(\"Symmetric difference:\", symmetric_difference)\n"
   ]
  },
  {
   "cell_type": "code",
   "execution_count": 1,
   "id": "54dd506d",
   "metadata": {},
   "outputs": [
    {
     "name": "stdout",
     "output_type": "stream",
     "text": [
      "enter list of wordsapple banana orange mango banana grapes orange\n",
      "{'apple': 1, 'banana': 2, 'orange': 2, 'mango': 1, 'grapes': 1}\n"
     ]
    }
   ],
   "source": [
    "#31\n",
    "words=input(\"enter list of words\").split()\n",
    "count={}\n",
    "for word in words:\n",
    "    \n",
    "    if word  in count:\n",
    "            count[word]+=1\n",
    "    else:\n",
    "        count[word]=1\n",
    "            \n",
    "            \n",
    "print(count)            \n",
    "           "
   ]
  },
  {
   "cell_type": "code",
   "execution_count": 12,
   "id": "c46004ac",
   "metadata": {},
   "outputs": [
    {
     "name": "stdout",
     "output_type": "stream",
     "text": [
      "enter first dict {'d':2 , 'e':3 , 'a':2}\n",
      "enter second dict{'a': 1, 'b': 2 , 'c':3} \n",
      "{'d': 2, 'e': 3, 'a': 3, 'b': 2, 'c': 3}\n"
     ]
    }
   ],
   "source": [
    "#32\n",
    "dict1=eval(input(\"enter first dict\"))\n",
    "dict2=eval(input(\"enter second dict\"))\n",
    "merged_dict=dict1.copy()\n",
    "\n",
    "for key,value in dict2.items():\n",
    "    if key in merged_dict:\n",
    "        merged_dict[key]+=value\n",
    "    else:\n",
    "        merged_dict[key]=value\n",
    "print(merged_dict)   "
   ]
  },
  {
   "cell_type": "code",
   "execution_count": 16,
   "id": "dc731e4c",
   "metadata": {},
   "outputs": [
    {
     "data": {
      "text/plain": [
       "{'b': 1, 'c': 2, 'a': 3}"
      ]
     },
     "execution_count": 16,
     "metadata": {},
     "output_type": "execute_result"
    }
   ],
   "source": [
    "\n",
    "#34\n",
    "def sort_dict(dic):\n",
    "    return dict(sorted(dic.items(),key=lambda item:item[1]))\n",
    "dic={'a':3,'b':1,'c':2}\n",
    "sort_dict(dic)\n"
   ]
  },
  {
   "cell_type": "code",
   "execution_count": null,
   "id": "4cfec4bc",
   "metadata": {},
   "outputs": [],
   "source": [
    "#35"
   ]
  }
 ],
 "metadata": {
  "kernelspec": {
   "display_name": "Python 3 (ipykernel)",
   "language": "python",
   "name": "python3"
  },
  "language_info": {
   "codemirror_mode": {
    "name": "ipython",
    "version": 3
   },
   "file_extension": ".py",
   "mimetype": "text/x-python",
   "name": "python",
   "nbconvert_exporter": "python",
   "pygments_lexer": "ipython3",
   "version": "3.11.5"
  }
 },
 "nbformat": 4,
 "nbformat_minor": 5
}
