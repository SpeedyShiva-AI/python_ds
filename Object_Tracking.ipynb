{
  "cells": [
    {
      "cell_type": "code",
      "execution_count": 12,
      "metadata": {
        "colab": {
          "base_uri": "https://localhost:8080/"
        },
        "id": "tK-YonBm90q1",
        "outputId": "2dc10e12-551a-49af-dcd9-9f001a6d1243"
      },
      "outputs": [
        {
          "name": "stdout",
          "output_type": "stream",
          "text": [
            "Predicted: [0.67741935 0.67741935], Updated: [0.67741935 0.67741935]\n",
            "Predicted: [1.6875 1.6875], Updated: [1.6875 1.6875]\n",
            "Predicted: [2.78274869 2.78274869], Updated: [2.78274869 2.78274869]\n"
          ]
        }
      ],
      "source": [
        "import numpy as np\n",
        "\n",
        "class KalmanFilter2D:\n",
        "    def __init__(self):\n",
        "        # State vector [x, y, vx, vy] (position and velocity)\n",
        "        self.state = np.array([[0.0], [0.0], [0.0], [0.0]], dtype=float)  # Float values\n",
        "        self.P = np.eye(4, dtype=float)  # Initial covariance matrix\n",
        "        self.A = np.array([[1, 0, 1, 0],\n",
        "                           [0, 1, 0, 1],\n",
        "                           [0, 0, 1, 0],\n",
        "                           [0, 0, 0, 1]], dtype=float)  # State transition matrix\n",
        "        self.H = np.array([[1, 0, 0, 0],\n",
        "                           [0, 1, 0, 0]], dtype=float)  # Measurement matrix\n",
        "        self.R = np.eye(2, dtype=float)  # Measurement noise\n",
        "        self.Q = np.eye(4, dtype=float) * 0.1  # Process noise\n",
        "\n",
        "    def predict(self):\n",
        "        self.state = np.dot(self.A, self.state)\n",
        "        self.P = np.dot(self.A, np.dot(self.P, self.A.T)) + self.Q\n",
        "        return self.state[:2]\n",
        "\n",
        "    def update(self, measurement):\n",
        "        y = measurement - np.dot(self.H, self.state)\n",
        "        S = np.dot(self.H, np.dot(self.P, self.H.T)) + self.R\n",
        "        K = np.dot(self.P, np.dot(self.H.T, np.linalg.inv(S)))\n",
        "        self.state += np.dot(K, y)\n",
        "        self.P = self.P - np.dot(K, np.dot(self.H, self.P))\n",
        "        return self.state[:2]\n",
        "\n",
        "# Test the Kalman Filter\n",
        "kf = KalmanFilter2D()\n",
        "measurements = [np.array([[1.0], [1.0]]), np.array([[2.0], [2.0]]), np.array([[3.0], [3.0]])]\n",
        "\n",
        "for measurement in measurements:\n",
        "    predicted = kf.predict()\n",
        "    updated = kf.update(measurement)\n",
        "    print(f\"Predicted: {predicted.flatten()}, Updated: {updated.flatten()}\")\n"
      ]
    },
    {
      "cell_type": "code",
      "execution_count": 7,
      "metadata": {
        "colab": {
          "base_uri": "https://localhost:8080/"
        },
        "id": "S6tATzHM8j8h",
        "outputId": "a5bd2ffd-fef0-4218-fae6-e0c2ef0098f9"
      },
      "outputs": [
        {
          "name": "stdout",
          "output_type": "stream",
          "text": [
            "Normalized Image:\n",
            " [[[0.22745098 0.31764706 0.60392157]\n",
            "  [0.49803922 0.50980392 0.56862745]\n",
            "  [0.63137255 0.79215686 0.86666667]\n",
            "  [0.4        0.33333333 0.47843137]\n",
            "  [0.49803922 0.0627451  0.21568627]]\n",
            "\n",
            " [[0.90196078 0.34901961 0.23529412]\n",
            "  [0.49019608 0.8627451  0.52156863]\n",
            "  [0.61568627 0.51372549 0.14509804]\n",
            "  [0.00784314 0.46666667 0.50588235]\n",
            "  [0.69411765 0.90196078 0.07058824]]\n",
            "\n",
            " [[0.41960784 0.28235294 0.54509804]\n",
            "  [0.4745098  0.49803922 0.06666667]\n",
            "  [0.43921569 0.87843137 0.61176471]\n",
            "  [0.13333333 0.69019608 0.02745098]\n",
            "  [0.28627451 0.11764706 0.23137255]]\n",
            "\n",
            " [[0.53333333 0.8        0.25490196]\n",
            "  [0.37254902 0.94117647 0.63921569]\n",
            "  [0.56862745 0.90980392 0.87058824]\n",
            "  [0.79215686 0.01960784 0.6627451 ]\n",
            "  [0.40784314 0.68627451 0.90196078]]\n",
            "\n",
            " [[0.1372549  0.91372549 0.55686275]\n",
            "  [0.15294118 0.69803922 0.61568627]\n",
            "  [0.23137255 0.76470588 0.94509804]\n",
            "  [0.16470588 0.04313725 0.30588235]\n",
            "  [0.09019608 0.2627451  0.28627451]]]\n"
          ]
        }
      ],
      "source": [
        "#2\n",
        "import numpy as np\n",
        "\n",
        "def normalize_image(image):\n",
        "    \"\"\"\n",
        "    Normalize an image array to have pixel values between 0 and 1.\n",
        "    \"\"\"\n",
        "    return image / 255.0\n",
        "\n",
        "# Example usage\n",
        "image = np.random.randint(0, 256, (5, 5, 3))  # Dummy image\n",
        "normalized_image = normalize_image(image)\n",
        "print(\"Normalized Image:\\n\", normalized_image)\n"
      ]
    },
    {
      "cell_type": "code",
      "execution_count": 3,
      "metadata": {
        "colab": {
          "base_uri": "https://localhost:8080/"
        },
        "id": "sVlE2Rua8epQ",
        "outputId": "9531e28f-1654-4dd1-f515-7cedf1dd8377"
      },
      "outputs": [
        {
          "name": "stdout",
          "output_type": "stream",
          "text": [
            "Filtered Detections: [(0.7272903044631136, array([88, 46, 11, 25]))]\n"
          ]
        }
      ],
      "source": [
        "#3\n",
        "import numpy as np\n",
        "\n",
        "def generate_dummy_detections(num_detections=5):\n",
        "    \"\"\"\n",
        "    Generate dummy object detection data with confidence scores and bounding boxes.\n",
        "    \"\"\"\n",
        "    detections = []\n",
        "    for _ in range(num_detections):\n",
        "        confidence = np.random.rand()\n",
        "        bbox = np.random.randint(0, 100, 4)  # [x_min, y_min, x_max, y_max]\n",
        "        detections.append((confidence, bbox))\n",
        "    return detections\n",
        "\n",
        "def filter_detections(detections, threshold=0.5):\n",
        "    \"\"\"\n",
        "    Filter detections by confidence threshold.\n",
        "    \"\"\"\n",
        "    return [d for d in detections if d[0] >= threshold]\n",
        "\n",
        "# Example\n",
        "detections = generate_dummy_detections()\n",
        "filtered_detections = filter_detections(detections)\n",
        "print(\"Filtered Detections:\", filtered_detections)\n"
      ]
    },
    {
      "cell_type": "code",
      "execution_count": 2,
      "metadata": {
        "colab": {
          "base_uri": "https://localhost:8080/"
        },
        "id": "Zc4xQxuq8pV5",
        "outputId": "1f9ccc62-c144-4246-d34f-47cf49a87633"
      },
      "outputs": [
        {
          "data": {
            "text/plain": [
              "{'status': 'ok', 'restart': True}"
            ]
          },
          "execution_count": 2,
          "metadata": {},
          "output_type": "execute_result"
        }
      ],
      "source": [
        "# Restart the kernel\n",
        "get_ipython().kernel.do_shutdown(restart=True)"
      ]
    },
    {
      "cell_type": "code",
      "execution_count": 4,
      "metadata": {
        "colab": {
          "base_uri": "https://localhost:8080/"
        },
        "id": "92gAfA7x83hL",
        "outputId": "c40c8a37-78ca-476a-b927-b34330f3b903"
      },
      "outputs": [
        {
          "name": "stdout",
          "output_type": "stream",
          "text": [
            "Feature Vectors Shape: (5, 128)\n"
          ]
        }
      ],
      "source": [
        "#4\n",
        "def extract_feature_vectors(detections):\n",
        "    \"\"\"\n",
        "    Extract random 128-dimensional feature vectors for each detection.\n",
        "    \"\"\"\n",
        "    feature_vectors = [np.random.rand(128) for _ in detections]\n",
        "    return feature_vectors\n",
        "\n",
        "# Example\n",
        "features = extract_feature_vectors(detections)\n",
        "print(\"Feature Vectors Shape:\", np.array(features).shape)\n"
      ]
    },
    {
      "cell_type": "code",
      "execution_count": 5,
      "metadata": {
        "colab": {
          "base_uri": "https://localhost:8080/"
        },
        "id": "Y5tYT2N99sl_",
        "outputId": "a1d45ecc-b86d-4a74-9413-c92a65f9b9aa"
      },
      "outputs": [
        {
          "name": "stdout",
          "output_type": "stream",
          "text": [
            "Re-Identification Matches: [(0, array([8.17944786e-01, 3.42024859e-01, 3.47853448e-01, 2.01579957e-01,\n",
            "       2.04594452e-01, 2.20826882e-01, 4.46142729e-01, 6.29220683e-01,\n",
            "       3.71426818e-01, 3.15435842e-02, 8.21494660e-01, 7.91236064e-01,\n",
            "       7.17238551e-01, 5.87325841e-01, 5.82886855e-01, 6.83233283e-01,\n",
            "       2.20808100e-01, 1.83774415e-01, 4.41337061e-01, 1.59964693e-01,\n",
            "       6.53953428e-01, 3.20266169e-01, 4.55231709e-01, 2.73097828e-01,\n",
            "       4.30954165e-01, 3.22069582e-01, 1.66595046e-01, 1.49702982e-01,\n",
            "       4.23600314e-01, 1.85009120e-01, 7.69152640e-01, 4.23141547e-01,\n",
            "       4.36391833e-01, 8.18392671e-01, 1.64607091e-01, 8.08221646e-01,\n",
            "       8.28807347e-01, 2.52989599e-01, 8.94519240e-02, 5.29587289e-01,\n",
            "       9.56061895e-01, 8.04876798e-01, 6.86820359e-01, 4.45161453e-01,\n",
            "       8.73119049e-03, 2.82943709e-02, 5.98510823e-01, 2.74580832e-01,\n",
            "       2.39034525e-01, 9.99383760e-01, 9.65344832e-01, 4.28991168e-01,\n",
            "       8.83142700e-01, 7.27268108e-01, 6.58209983e-01, 1.05703125e-01,\n",
            "       6.70765552e-01, 7.56141619e-03, 1.46125824e-01, 2.61676393e-01,\n",
            "       1.89268303e-02, 9.31966908e-01, 8.59493016e-01, 5.17897452e-01,\n",
            "       3.54866400e-02, 8.20956257e-01, 9.94582262e-01, 1.14512326e-01,\n",
            "       4.51747120e-02, 2.11084267e-04, 9.05000849e-01, 5.04845847e-01,\n",
            "       4.12503288e-01, 2.64430279e-01, 7.82665266e-01, 9.84285558e-01,\n",
            "       6.67124399e-01, 9.30865774e-01, 3.02886716e-01, 1.59250356e-01,\n",
            "       9.29147248e-01, 7.99916712e-01, 8.57890900e-01, 9.90319246e-01,\n",
            "       9.68600897e-01, 9.54205126e-01, 6.21728312e-01, 9.14750789e-01,\n",
            "       8.93184138e-01, 3.14764089e-01, 6.26021296e-01, 5.71646269e-01,\n",
            "       5.94940622e-01, 3.34382635e-01, 5.72129712e-01, 4.32165255e-01,\n",
            "       7.77550452e-01, 8.64038563e-01, 3.09362598e-01, 2.78369509e-01,\n",
            "       6.13732005e-01, 8.81993513e-01, 9.67406599e-02, 1.97351763e-01,\n",
            "       3.62176333e-01, 6.52828925e-01, 9.33500715e-01, 3.98346302e-01,\n",
            "       5.34502731e-01, 4.53939726e-01, 6.62152295e-01, 5.03959855e-01,\n",
            "       6.93693081e-01, 5.73789249e-01, 2.33566055e-01, 1.59120952e-01,\n",
            "       3.26615529e-01, 6.84336996e-01, 8.60018414e-01, 7.51460196e-02,\n",
            "       2.05688350e-01, 8.36506125e-01, 9.61759628e-01, 5.78046479e-01,\n",
            "       6.68313262e-01, 2.36995195e-01, 2.82798809e-01, 5.91035033e-01])), (1, array([0.96707519, 0.87347439, 0.31509471, 0.76654548, 0.7875314 ,\n",
            "       0.63591823, 0.87528317, 0.24874735, 0.458744  , 0.97730265,\n",
            "       0.62861719, 0.5168497 , 0.77765157, 0.54899213, 0.09447393,\n",
            "       0.65681794, 0.20781516, 0.39744764, 0.28099198, 0.15180714,\n",
            "       0.21381057, 0.96803404, 0.69879837, 0.16704328, 0.81851328,\n",
            "       0.56466436, 0.58531415, 0.94191708, 0.88409318, 0.22693762,\n",
            "       0.03096551, 0.49995503, 0.36826952, 0.10628008, 0.25132751,\n",
            "       0.19721306, 0.35498499, 0.78259507, 0.68055329, 0.77972613,\n",
            "       0.22416676, 0.93936846, 0.94121348, 0.15601538, 0.63178497,\n",
            "       0.06554408, 0.84564421, 0.04942517, 0.2041003 , 0.75575227,\n",
            "       0.03383449, 0.36078172, 0.88716782, 0.53247496, 0.67533153,\n",
            "       0.25988362, 0.81750763, 0.3650229 , 0.36311849, 0.24792875,\n",
            "       0.15654117, 0.58552216, 0.36025014, 0.3818677 , 0.36149674,\n",
            "       0.63293727, 0.60754628, 0.09745672, 0.62807854, 0.72352579,\n",
            "       0.98233289, 0.48988537, 0.95839815, 0.38450231, 0.05134855,\n",
            "       0.51131256, 0.24554079, 0.60403277, 0.8011128 , 0.13658555,\n",
            "       0.13769747, 0.76378654, 0.10107329, 0.44749284, 0.10063301,\n",
            "       0.83745122, 0.4659576 , 0.25581107, 0.42053877, 0.03323196,\n",
            "       0.06366838, 0.65543078, 0.15143132, 0.32722998, 0.75270762,\n",
            "       0.55874451, 0.6712488 , 0.88524498, 0.4749272 , 0.47284413,\n",
            "       0.21520898, 0.06989683, 0.07678832, 0.80786989, 0.64938945,\n",
            "       0.48301779, 0.29194341, 0.01894655, 0.97065254, 0.12079021,\n",
            "       0.30161999, 0.11022361, 0.96363629, 0.65678572, 0.43417106,\n",
            "       0.28206292, 0.17860451, 0.22836455, 0.65962671, 0.71999402,\n",
            "       0.2810777 , 0.46307343, 0.0088221 , 0.80064078, 0.94380969,\n",
            "       0.16303457, 0.60352005, 0.15244465])), (2, array([6.81094073e-01, 6.33009186e-01, 9.32530893e-01, 7.58772412e-01,\n",
            "       9.34597350e-01, 5.29057142e-01, 3.12791790e-01, 4.07104392e-01,\n",
            "       1.49294229e-01, 1.29233767e-01, 5.10632438e-01, 6.58028288e-01,\n",
            "       7.32996321e-01, 5.70819175e-01, 2.89097339e-01, 7.70360368e-01,\n",
            "       9.85419317e-01, 8.14066517e-01, 7.15360322e-01, 3.54670701e-01,\n",
            "       9.88251669e-01, 2.55185540e-01, 5.81335540e-01, 8.26605250e-01,\n",
            "       2.18075079e-01, 6.95250762e-01, 7.80123682e-01, 1.70603924e-02,\n",
            "       4.13068471e-01, 1.45821947e-01, 5.81902096e-01, 8.16011207e-04,\n",
            "       1.03896246e-01, 2.40744877e-01, 4.16044706e-01, 4.46094442e-01,\n",
            "       2.24497220e-01, 9.48635323e-01, 5.38683285e-01, 7.10862498e-01,\n",
            "       8.07787694e-01, 4.11925033e-01, 6.74362955e-02, 2.07323535e-01,\n",
            "       1.76927822e-01, 3.30248010e-01, 6.86503673e-01, 5.86738504e-01,\n",
            "       3.72785997e-01, 7.19213669e-01, 5.51327828e-01, 4.19333380e-02,\n",
            "       2.89975335e-01, 1.78445449e-01, 9.06479042e-01, 8.32747580e-01,\n",
            "       3.83556146e-01, 6.79020282e-01, 4.78528644e-01, 4.90849311e-01,\n",
            "       9.59996195e-02, 7.97283417e-01, 2.12076199e-01, 6.20020818e-01,\n",
            "       5.63201080e-01, 7.00172566e-01, 3.11144127e-01, 7.99652670e-01,\n",
            "       7.04804260e-01, 1.79669908e-01, 8.97133810e-01, 9.37684679e-01,\n",
            "       9.07728828e-01, 2.73927283e-01, 3.53366161e-01, 9.57723463e-01,\n",
            "       4.53921809e-02, 2.05777460e-01, 7.20446377e-01, 5.00422808e-01,\n",
            "       4.21605803e-01, 1.16720610e-01, 8.11743677e-01, 1.13989586e-01,\n",
            "       3.71790318e-01, 2.49936386e-01, 9.31615126e-02, 3.09138336e-02,\n",
            "       5.92596324e-01, 6.10272866e-01, 9.54894505e-01, 3.62261100e-01,\n",
            "       9.21389047e-01, 4.24704927e-01, 7.31149179e-01, 7.57353205e-01,\n",
            "       9.17548851e-01, 4.20863605e-01, 5.48119464e-01, 9.95502473e-01,\n",
            "       6.07417459e-01, 9.60538881e-01, 8.09483179e-01, 4.40633872e-02,\n",
            "       5.21766385e-01, 1.39388813e-01, 8.04061068e-01, 4.79429471e-01,\n",
            "       6.48938583e-01, 4.71689065e-01, 1.44112778e-01, 5.49268478e-01,\n",
            "       6.65183962e-01, 4.88216766e-01, 3.54317042e-01, 7.41300300e-01,\n",
            "       6.95402449e-02, 9.11572400e-02, 4.35726232e-01, 7.85191264e-01,\n",
            "       2.93806900e-01, 3.44832841e-01, 3.34258686e-01, 9.92976395e-01,\n",
            "       9.15472020e-01, 8.65689277e-01, 1.20624319e-01, 1.66627206e-01])), (3, array([0.43487333, 0.15257053, 0.71832819, 0.65415793, 0.45176714,\n",
            "       0.39898897, 0.08964244, 0.08847004, 0.21055298, 0.45590167,\n",
            "       0.04993028, 0.00704969, 0.44554682, 0.58420996, 0.92567686,\n",
            "       0.30535516, 0.08382048, 0.30314472, 0.23562744, 0.61654012,\n",
            "       0.5610636 , 0.56469657, 0.58489107, 0.35640043, 0.9366414 ,\n",
            "       0.01698019, 0.50266565, 0.37106762, 0.13204598, 0.20584559,\n",
            "       0.75153267, 0.2178237 , 0.27997059, 0.93973157, 0.86598637,\n",
            "       0.76590135, 0.0257088 , 0.01212886, 0.24531223, 0.56090836,\n",
            "       0.43194803, 0.79291899, 0.35036086, 0.98277185, 0.29481689,\n",
            "       0.9021198 , 0.93221136, 0.45245082, 0.17156122, 0.84299115,\n",
            "       0.27296287, 0.09212178, 0.29264197, 0.33734395, 0.02159394,\n",
            "       0.43190818, 0.28427016, 0.51694525, 0.56588619, 0.58300229,\n",
            "       0.19203758, 0.59174527, 0.27765262, 0.27655785, 0.32157431,\n",
            "       0.75753675, 0.91769423, 0.36012208, 0.99209237, 0.4632017 ,\n",
            "       0.17242095, 0.69759794, 0.98098533, 0.47868308, 0.53204518,\n",
            "       0.04209281, 0.04502217, 0.11652529, 0.55614851, 0.55731077,\n",
            "       0.52106887, 0.56261917, 0.13276593, 0.13999375, 0.66124374,\n",
            "       0.36689976, 0.56704998, 0.02986423, 0.6003607 , 0.84728854,\n",
            "       0.21570703, 0.76793644, 0.53682949, 0.60299617, 0.51832435,\n",
            "       0.19884741, 0.05535114, 0.23368791, 0.71650132, 0.18511398,\n",
            "       0.80116988, 0.05526287, 0.06053365, 0.07452199, 0.17968964,\n",
            "       0.73251795, 0.35273779, 0.60114615, 0.4649359 , 0.47237576,\n",
            "       0.49950137, 0.18529637, 0.78899073, 0.56108707, 0.58053283,\n",
            "       0.22330785, 0.82242321, 0.0409613 , 0.43091512, 0.97995523,\n",
            "       0.07998316, 0.1532113 , 0.51111153, 0.14622721, 0.95642609,\n",
            "       0.90038255, 0.94463876, 0.64939094])), (4, array([0.45818162, 0.71349127, 0.49669343, 0.33734884, 0.3156233 ,\n",
            "       0.70984528, 0.92383195, 0.41096065, 0.21601891, 0.58752485,\n",
            "       0.96624747, 0.54588933, 0.03391644, 0.85470351, 0.92467728,\n",
            "       0.75648878, 0.11021453, 0.30413529, 0.66044107, 0.6737869 ,\n",
            "       0.13641062, 0.625987  , 0.60604955, 0.46474747, 0.68369567,\n",
            "       0.49553842, 0.10329955, 0.30544294, 0.56556902, 0.60174846,\n",
            "       0.32125864, 0.59509896, 0.88537268, 0.09595103, 0.99501766,\n",
            "       0.49112884, 0.84137569, 0.14233082, 0.38846199, 0.09540207,\n",
            "       0.01479266, 0.41178727, 0.90185231, 0.10428439, 0.03905301,\n",
            "       0.8352056 , 0.98793636, 0.01810602, 0.22422579, 0.59445251,\n",
            "       0.3725063 , 0.39195699, 0.87815472, 0.91705998, 0.24167252,\n",
            "       0.40258063, 0.1785131 , 0.70666075, 0.54357014, 0.34901524,\n",
            "       0.47444903, 0.41469874, 0.89399697, 0.58485316, 0.72154268,\n",
            "       0.31041106, 0.78837766, 0.19819402, 0.8740998 , 0.69251887,\n",
            "       0.03451513, 0.62534048, 0.23931374, 0.05144448, 0.71215271,\n",
            "       0.64911144, 0.53848794, 0.3826516 , 0.65792314, 0.79909864,\n",
            "       0.89058231, 0.59060216, 0.5556194 , 0.94834071, 0.97422918,\n",
            "       0.88835182, 0.08428685, 0.22876248, 0.23332619, 0.96049914,\n",
            "       0.70060317, 0.20332392, 0.02638731, 0.66564262, 0.47902256,\n",
            "       0.91783913, 0.39239269, 0.85348356, 0.69561051, 0.11820628,\n",
            "       0.91915972, 0.49837285, 0.10923843, 0.45176707, 0.14919327,\n",
            "       0.28717516, 0.69027046, 0.99333663, 0.09926103, 0.91637998,\n",
            "       0.19300822, 0.72733741, 0.29433156, 0.66685913, 0.09185679,\n",
            "       0.04669968, 0.82321961, 0.72084785, 0.53778357, 0.8188427 ,\n",
            "       0.70040346, 0.18322761, 0.83546284, 0.51139231, 0.75817951,\n",
            "       0.89755553, 0.55928394, 0.97923786]))]\n"
          ]
        }
      ],
      "source": [
        "from scipy.spatial.distance import euclidean\n",
        "\n",
        "def reidentify_objects(features1, features2):\n",
        "    \"\"\"\n",
        "    Match feature vectors based on Euclidean distance.\n",
        "    \"\"\"\n",
        "    matches = []\n",
        "    for i, f1 in enumerate(features1):\n",
        "        best_match = min(features2, key=lambda f2: euclidean(f1, f2))\n",
        "        matches.append((i, best_match))\n",
        "    return matches\n",
        "\n",
        "# Example\n",
        "matches = reidentify_objects(features, features)\n",
        "print(\"Re-Identification Matches:\", matches)\n"
      ]
    },
    {
      "cell_type": "code",
      "execution_count": 13,
      "metadata": {
        "id": "GHUWDOx79us3"
      },
      "outputs": [],
      "source": [
        "# Theory"
      ]
    },
    {
      "cell_type": "code",
      "execution_count": 14,
      "metadata": {
        "id": "xmzUtJRZ9w6U"
      },
      "outputs": [],
      "source": [
        "# 1.\n",
        "# Detectron2 tasks: It supports object detection, instance segmentation, keypoint detection, and panoptic segmentation."
      ]
    },
    {
      "cell_type": "code",
      "execution_count": 14,
      "metadata": {
        "id": "15inzTsf-qDy"
      },
      "outputs": [],
      "source": [
        "#2 - 35\n",
        "# Data annotation importance: Proper labeling helps models learn features accurately, improving prediction performance.\n",
        "# Batch size: The number of samples processed together in one forward/backward pass during training.\n",
        "# Pretrained weights purpose: They provide a starting point for models, speeding up convergence and improving accuracy.\n",
        "# Verify Detectron2 installation: Run import detectron2; print(detectron2.__version__) in Python.\n",
        "# TFOD2: TensorFlow Object Detection API, widely used for training custom object detection models.\n",
        "# Learning rate: Controls how much the model's weights are updated during training; too high can cause instability.\n",
        "# Detectron2 backend: It uses PyTorch for its flexibility, efficiency, and dynamic computational graph.\n",
        "# Pretrained models in TFOD2: Supports SSD, Faster R-CNN, and EfficientDet models.\n",
        "# Data path errors in Detectron2: They prevent proper loading of datasets or models, causing training failures.\n",
        "# Detectron2: A powerful PyTorch-based library for object detection and segmentation.\n",
        "# TFRecord files: Efficient format for storing large datasets in TensorFlow.\n",
        "# Evaluation metrics in Detectron2: Common ones are mAP (mean Average Precision) and IoU (Intersection over Union).\n",
        "# Inference with Detectron2: Load a trained model and use predictor(image) to get predictions.\n",
        "# TFOD2 meaning: TensorFlow Object Detection API, designed for building and deploying object detection models.\n",
        "# Fine-tuning: Adjusting a pretrained model to improve its performance on a specific task.\n",
        "# Starting training in TFOD2: Run the training script using TensorFlow's model_main_tf2.py.\n",
        "# COCO format: A widely-used data format for object detection with JSON files describing annotations.\n",
        "# Evaluation curve plotting: Helps visualize training progress and model performance.\n",
        "# Configuring data paths in TFOD2: Update pipeline.config to point to datasets and label maps.\n",
        "# Detectron2 on CPU: Yes, but it’s slower compared to using a GPU.\n",
        "# Label maps in TFOD2: Define the class labels for detection tasks.\n",
        "# TFOD2 for real-time tasks: Supports efficient models like SSD and EfficientDet for faster inference.\n",
        "# Batch size impact on GPU memory: Larger batches require more memory; small batches can lead to noisier gradients.\n",
        "# Role of IoU: Measures overlap between predicted and ground truth bounding boxes; key for evaluating detection accuracy.\n",
        "# Faster R-CNN: A two-stage object detection model supported by TFOD2; it balances speed and accuracy.\n",
        "# Detectron2 pretrained weights: They help models generalize better by leveraging pre-learned features.\n",
        "# Training data format in TFOD2: Typically stored in TFRecord files for efficient reading during training.\n",
        "# Semantic vs. Instance Segmentation: Semantic labels each pixel with a class; instance segmentation distinguishes individual objects.\n",
        "# Custom classes in Detectron2: Yes, by training the model on your custom-labeled dataset.\n",
        "# Importance of pipeline.config: Defines all training parameters, including model architecture and data paths.\n",
        "# Models supported by TFOD2: SSD, Faster R-CNN, EfficientDet, and CenterNet, among others.\n",
        "# Learning rate too high: Causes unstable training and prevents the model from converging.\n",
        "# COCO JSON format: A JSON structure defining image data, categories, and annotations in the COCO dataset format.\n",
        "# TensorFlow Lite compatibility: Enables deployment of lightweight models for mobile and edge devices.\n",
        "# Let me know if you need more details on any!\n",
        "\n",
        "\n",
        "\n",
        "\n",
        "\n",
        "\n",
        "\n",
        "\n",
        "\n",
        "\n"
      ]
    },
    {
      "cell_type": "code",
      "execution_count": 14,
      "metadata": {
        "id": "sxre6Lal-s0G"
      },
      "outputs": [],
      "source": []
    },
    {
      "cell_type": "code",
      "execution_count": 14,
      "metadata": {
        "id": "b01IvV_z-s26"
      },
      "outputs": [],
      "source": []
    },
    {
      "cell_type": "code",
      "execution_count": 14,
      "metadata": {
        "id": "aACCeqPV-s5v"
      },
      "outputs": [],
      "source": []
    },
    {
      "cell_type": "code",
      "execution_count": 14,
      "metadata": {
        "id": "nXwYqHsR-s8Y"
      },
      "outputs": [],
      "source": []
    },
    {
      "cell_type": "code",
      "execution_count": 14,
      "metadata": {
        "id": "l7G1cUcR-s-1"
      },
      "outputs": [],
      "source": []
    },
    {
      "cell_type": "code",
      "execution_count": 14,
      "metadata": {
        "id": "jzR-Hvr9-tBW"
      },
      "outputs": [],
      "source": []
    },
    {
      "cell_type": "code",
      "execution_count": null,
      "metadata": {
        "id": "MV_q4X6W-tDa"
      },
      "outputs": [],
      "source": []
    }
  ],
  "metadata": {
    "colab": {
      "provenance": []
    },
    "kernelspec": {
      "display_name": "Python 3",
      "name": "python3"
    },
    "language_info": {
      "name": "python"
    }
  },
  "nbformat": 4,
  "nbformat_minor": 0
}
