{
 "cells": [
  {
   "cell_type": "code",
   "execution_count": null,
   "metadata": {},
   "outputs": [],
   "source": [
    "# Reading the contents of a file\n",
    "file_path = 'example.txt'\n",
    "with open(file_path, 'r') as file:\n",
    "    content = file.read()\n",
    "    print(content)\n"
   ]
  },
  {
   "cell_type": "code",
   "execution_count": 1,
   "metadata": {},
   "outputs": [],
   "source": [
    "# Writing to a file\n",
    "file_path = 'example.txt'\n",
    "with open(file_path, 'w') as file:\n",
    "    file.write(\"Hello, world!\")\n"
   ]
  },
  {
   "cell_type": "code",
   "execution_count": 2,
   "metadata": {},
   "outputs": [],
   "source": [
    "# Appending to a file\n",
    "file_path = 'example.txt'\n",
    "with open(file_path, 'a') as file:\n",
    "    file.write(\"\\nAppending new content.\")\n"
   ]
  },
  {
   "cell_type": "code",
   "execution_count": 6,
   "metadata": {},
   "outputs": [
    {
     "name": "stdout",
     "output_type": "stream",
     "text": [
      "b'123\\r\\n345'\n"
     ]
    }
   ],
   "source": [
    "# Reading a binary file\n",
    "file_path = 'example.bin'\n",
    "with open('file', 'rb') as file:\n",
    "    content = file.read()\n",
    "    print(content)\n"
   ]
  },
  {
   "cell_type": "code",
   "execution_count": 4,
   "metadata": {},
   "outputs": [],
   "source": [
    "# If we don't use the with keyword, the file might not be closed properly after the operation, which could lead to resource leaks and potential issues such as file locks or memory consumption. The with statement ensures that the file is automatically closed after the block of code is executed.\n",
    "\n"
   ]
  },
  {
   "cell_type": "code",
   "execution_count": 7,
   "metadata": {},
   "outputs": [],
   "source": [
    "# Buffering involves reading or writing data in chunks rather than one byte at a time. This improves performance by reducing the number of I/O operations. When a file is opened, Python reads or writes data to a buffer before flushing it to the file system."
   ]
  },
  {
   "cell_type": "code",
   "execution_count": 8,
   "metadata": {},
   "outputs": [],
   "source": [
    "# Buffered file handling generally involves:\n",
    "\n",
    "# Opening the file with a buffer size parameter (in Python, this is managed automatically).\n",
    "# Reading or writing data to a buffer instead of directly to the file system.\n",
    "# Flushing the buffer to the file system periodically to reduce I/O operations.\n",
    "# Closing the file to release the buffer.\n",
    "# In Python, buffered reading and writing are handled by default when opening a file."
   ]
  },
  {
   "cell_type": "code",
   "execution_count": 10,
   "metadata": {},
   "outputs": [
    {
     "name": "stdout",
     "output_type": "stream",
     "text": [
      "Hello, world!\n",
      "Appending new content.\n"
     ]
    }
   ],
   "source": [
    "def read_file_buffered(file_path):\n",
    "    with open(file_path, 'r', buffering=4096) as file:\n",
    "        content = file.read()\n",
    "    return content\n",
    "\n",
    "print(read_file_buffered('example.txt'))\n"
   ]
  },
  {
   "cell_type": "code",
   "execution_count": 11,
   "metadata": {},
   "outputs": [],
   "source": [
    "# Efficiency: It reduces the number of I/O operations by reading or writing in chunks.\n",
    "# Speed: It speeds up file operations, especially for large files.\n",
    "# Resource management: It reduces memory usage by loading parts of the file as needed"
   ]
  },
  {
   "cell_type": "code",
   "execution_count": 12,
   "metadata": {},
   "outputs": [],
   "source": [
    "def append_to_file_buffered(file_path, content):\n",
    "    with open(file_path, 'a', buffering=4096) as file:\n",
    "        file.write(content)\n",
    "\n",
    "append_to_file_buffered('example.txt', \"\\nAppended using buffered writing.\")\n"
   ]
  },
  {
   "cell_type": "code",
   "execution_count": 13,
   "metadata": {},
   "outputs": [
    {
     "name": "stdout",
     "output_type": "stream",
     "text": [
      "Hello, world!\n",
      "Appending new content.\n",
      "Appended using buffered writing.\n"
     ]
    }
   ],
   "source": [
    "def read_and_close_file(file_path):\n",
    "    file = open(file_path, 'r')\n",
    "    content = file.read()\n",
    "    print(content)\n",
    "    file.close()  # Explicitly closing the file\n",
    "\n",
    "read_and_close_file('example.txt')\n"
   ]
  },
  {
   "cell_type": "code",
   "execution_count": 15,
   "metadata": {},
   "outputs": [
    {
     "name": "stdout",
     "output_type": "stream",
     "text": [
      ", world!\n",
      "Appending new content.\n",
      "Appended using buffered writing.\n"
     ]
    }
   ],
   "source": [
    "# 13\n",
    "def use_seek(file_path):\n",
    "    with open(file_path, 'r') as file:\n",
    "        file.seek(5)  # Move to the 5th byte\n",
    "        print(file.read())  # Print from the 5th byte onward\n",
    "\n",
    "use_seek('example.txt')\n"
   ]
  },
  {
   "cell_type": "code",
   "execution_count": 17,
   "metadata": {},
   "outputs": [
    {
     "name": "stdout",
     "output_type": "stream",
     "text": [
      "3\n"
     ]
    }
   ],
   "source": [
    "#14\n",
    "def get_file_descriptor(file_path):\n",
    "    with open(file_path, 'r') as file:\n",
    "        fd = file.fileno()\n",
    "    return fd\n",
    "\n",
    "print(get_file_descriptor('example.txt'))\n"
   ]
  },
  {
   "cell_type": "code",
   "execution_count": 18,
   "metadata": {},
   "outputs": [
    {
     "name": "stdout",
     "output_type": "stream",
     "text": [
      "5\n"
     ]
    }
   ],
   "source": [
    "def get_current_position(file_path):\n",
    "    with open(file_path, 'r') as file:\n",
    "        file.seek(5)  # Move to the 5th byte\n",
    "        position = file.tell()  # Get the current position\n",
    "    return position\n",
    "\n",
    "print(get_current_position('example.txt'))\n"
   ]
  },
  {
   "cell_type": "code",
   "execution_count": 19,
   "metadata": {},
   "outputs": [],
   "source": [
    "import logging\n",
    "\n",
    "logging.basicConfig(filename='app.log', level=logging.INFO, format='%(asctime)s - %(message)s')\n",
    "\n",
    "logging.info(\"This is an informational message.\")\n"
   ]
  },
  {
   "cell_type": "code",
   "execution_count": 20,
   "metadata": {},
   "outputs": [],
   "source": [
    "# Logging levels in Python's logging module allow you to categorize and filter log messages based on their severity. The levels are:\n",
    "\n",
    "# DEBUG: Detailed information, useful for diagnosing problems.\n",
    "# INFO: General information about the program's execution.\n",
    "# WARNING: Indicates something unexpected or a potential problem.\n",
    "# ERROR: A more serious problem that prevents the program from performing a function.\n",
    "# CRITICAL: A severe error that may cause the program to stop.\n",
    "# The importance lies in allowing selective filtering of logs based on the level of severity, helping developers focus on the most critical issues during debugging."
   ]
  },
  {
   "cell_type": "code",
   "execution_count": null,
   "metadata": {},
   "outputs": [
    {
     "name": "stdout",
     "output_type": "stream",
     "text": [
      "> \u001b[1;32mc:\\users\\shiva\\appdata\\local\\temp\\ipykernel_22640\\447815604.py\u001b[0m(6)\u001b[0;36mfind_value_in_loop\u001b[1;34m()\u001b[0m\n",
      "\n",
      "1\n",
      "1\n",
      "1\n",
      "1\n",
      "1\n",
      "1\n",
      "*** NameError: name 'enter' is not defined\n",
      "*** NameError: name 'Enter' is not defined\n",
      "*** NameError: name 'Enter' is not defined\n",
      "*** NameError: name 'Enter' is not defined\n",
      "*** NameError: name 'Enter' is not defined\n",
      "*** NameError: name 'Enter' is not defined\n",
      "*** NameError: name 'Enter' is not defined\n",
      "*** NameError: name 'Enter' is not defined\n",
      "*** NameError: name 'Enter' is not defined\n",
      "*** NameError: name 'Enter' is not defined\n",
      "*** NameError: name 'Enter' is not defined\n",
      "*** NameError: name 'Enter' is not defined\n",
      "*** NameError: name 'Enter' is not defined\n"
     ]
    }
   ],
   "source": [
    "import pdb\n",
    "\n",
    "def find_value_in_loop():\n",
    "    for i in range(10):\n",
    "        pdb.set_trace()  \n",
    "        print(i)\n",
    "\n",
    "find_value_in_loop()\n",
    "\n"
   ]
  },
  {
   "cell_type": "code",
   "execution_count": null,
   "metadata": {},
   "outputs": [
    {
     "name": "stdout",
     "output_type": "stream",
     "text": [
      "> \u001b[1;32mc:\\users\\shiva\\appdata\\local\\temp\\ipykernel_12284\\3927352811.py\u001b[0m(7)\u001b[0;36mcheck_variable\u001b[1;34m()\u001b[0m\n",
      "\n"
     ]
    }
   ],
   "source": [
    "import pdb\n",
    "\n",
    "def check_variable():\n",
    "    x = 10\n",
    "    y = 20\n",
    "    pdb.set_trace()  \n",
    "    z = x + y\n",
    "    \n",
    "    print(f\"Sum of x and y is: {z}\")\n",
    "\n",
    "check_variable()\n"
   ]
  },
  {
   "cell_type": "code",
   "execution_count": null,
   "metadata": {},
   "outputs": [],
   "source": [
    "import pdb\n",
    "\n",
    "def factorial(n):\n",
    "    if n == 0:\n",
    "        return 1\n",
    "    pdb.set_trace()  #\n",
    "    return n * factorial(n - 1)\n",
    "\n",
    "print(factorial(5))\n"
   ]
  },
  {
   "cell_type": "code",
   "execution_count": 1,
   "metadata": {},
   "outputs": [
    {
     "name": "stdout",
     "output_type": "stream",
     "text": [
      "Error: Division by zero is not allowed.\n"
     ]
    }
   ],
   "source": [
    "try:\n",
    "    result = 10 / 0\n",
    "except ZeroDivisionError as e:\n",
    "    print(\"Error: Division by zero is not allowed.\")\n"
   ]
  },
  {
   "cell_type": "code",
   "execution_count": 2,
   "metadata": {},
   "outputs": [
    {
     "name": "stdout",
     "output_type": "stream",
     "text": [
      "Error: Division by zero is not allowed.\n"
     ]
    }
   ],
   "source": [
    "try:\n",
    "    result = 10 / 0\n",
    "except ZeroDivisionError as e:\n",
    "    print(\"Error: Division by zero is not allowed.\")\n"
   ]
  },
  {
   "cell_type": "code",
   "execution_count": 3,
   "metadata": {},
   "outputs": [
    {
     "name": "stdout",
     "output_type": "stream",
     "text": [
      "File read successfully. Content:\n",
      "Hello, world!\n",
      "Appending new content.\n",
      "Appended using buffered writing.\n"
     ]
    }
   ],
   "source": [
    "try:\n",
    "    with open('example.txt', 'r') as file:\n",
    "        content = file.read()\n",
    "except FileNotFoundError as e:\n",
    "    print(\"Error: File not found.\")\n",
    "else:\n",
    "    print(\"File read successfully. Content:\")\n",
    "    print(content)\n"
   ]
  },
  {
   "cell_type": "code",
   "execution_count": 4,
   "metadata": {},
   "outputs": [
    {
     "name": "stdout",
     "output_type": "stream",
     "text": [
      "This will always be executed, even if there was an error.\n"
     ]
    }
   ],
   "source": [
    "try:\n",
    "    result = 10 / 2\n",
    "except ZeroDivisionError as e:\n",
    "    print(\"Error: Division by zero.\")\n",
    "finally:\n",
    "    print(\"This will always be executed, even if there was an error.\")\n"
   ]
  },
  {
   "cell_type": "code",
   "execution_count": 5,
   "metadata": {},
   "outputs": [
    {
     "name": "stdout",
     "output_type": "stream",
     "text": [
      "Error: Invalid input. Please enter a valid number.\n",
      "Execution completed.\n"
     ]
    }
   ],
   "source": [
    "try:\n",
    "    num = int(input(\"Enter a number: \"))\n",
    "except ValueError as e:\n",
    "    print(\"Error: Invalid input. Please enter a valid number.\")\n",
    "finally:\n",
    "    print(\"Execution completed.\")\n"
   ]
  },
  {
   "cell_type": "code",
   "execution_count": 6,
   "metadata": {},
   "outputs": [
    {
     "name": "stdout",
     "output_type": "stream",
     "text": [
      "Result: 10.0\n"
     ]
    }
   ],
   "source": [
    "# 26\n",
    "try:\n",
    "    number = int(input(\"Enter a number: \"))\n",
    "    result = 10 / number\n",
    "except ValueError as e:\n",
    "    print(\"Error: Invalid input. Please enter a number.\")\n",
    "except ZeroDivisionError as e:\n",
    "    print(\"Error: Cannot divide by zero.\")\n",
    "else:\n",
    "    print(f\"Result: {result}\")\n"
   ]
  },
  {
   "cell_type": "code",
   "execution_count": 7,
   "metadata": {},
   "outputs": [],
   "source": [
    "# A custom exception allows you to define your own exception classes to represent specific error conditions in your code. You can inherit from the built-in Exception class."
   ]
  },
  {
   "cell_type": "code",
   "execution_count": 8,
   "metadata": {},
   "outputs": [
    {
     "name": "stdout",
     "output_type": "stream",
     "text": [
      "Caught exception: This is a custom error message.\n"
     ]
    }
   ],
   "source": [
    "class CustomError(Exception):\n",
    "    def __init__(self, message):\n",
    "        self.message = message\n",
    "        super().__init__(self.message)\n",
    "\n",
    "# Example of raising a custom exception\n",
    "try:\n",
    "    raise CustomError(\"This is a custom error message.\")\n",
    "except CustomError as e:\n",
    "    print(f\"Caught exception: {e}\")\n"
   ]
  },
  {
   "cell_type": "code",
   "execution_count": 9,
   "metadata": {},
   "outputs": [
    {
     "name": "stdout",
     "output_type": "stream",
     "text": [
      "Error: Negative value is not allowed.\n"
     ]
    }
   ],
   "source": [
    "class NegativeValueError(Exception):\n",
    "    pass\n",
    "\n",
    "def check_value(value):\n",
    "    if value < 0:\n",
    "        raise NegativeValueError(\"Negative value is not allowed.\")\n",
    "    else:\n",
    "        print(\"Value is valid.\")\n",
    "\n",
    "try:\n",
    "    check_value(-5)\n",
    "except NegativeValueError as e:\n",
    "    print(f\"Error: {e}\")\n"
   ]
  },
  {
   "cell_type": "code",
   "execution_count": 10,
   "metadata": {},
   "outputs": [
    {
     "name": "stdout",
     "output_type": "stream",
     "text": [
      "Negative value provided!\n"
     ]
    }
   ],
   "source": [
    "class NegativeValueError(Exception):\n",
    "    def __init__(self, message=\"Value cannot be negative\"):\n",
    "        self.message = message\n",
    "        super().__init__(self.message)\n",
    "\n",
    "def check_negative(value):\n",
    "    if value < 0:\n",
    "        raise NegativeValueError(\"Negative value provided!\")\n",
    "    return value\n",
    "\n",
    "try:\n",
    "    check_negative(-10)\n",
    "except NegativeValueError as e:\n",
    "    print(e)\n"
   ]
  },
  {
   "cell_type": "code",
   "execution_count": 11,
   "metadata": {},
   "outputs": [],
   "source": [
    "# try: Code that might raise an exception.\n",
    "# except: Code that handles the exception if one occurs.\n",
    "# else: Code that runs if no exception occurs.\n",
    "# finally: Code that runs no matter what, even if an exception occurs or not."
   ]
  },
  {
   "cell_type": "code",
   "execution_count": 12,
   "metadata": {},
   "outputs": [],
   "source": [
    "# Custom exceptions allow you to represent specific error conditions in a meaningful way, making the code more readable and easier to debug. It also makes your code more modular by encapsulating error logic in custom exception classes."
   ]
  },
  {
   "cell_type": "code",
   "execution_count": 13,
   "metadata": {},
   "outputs": [],
   "source": [
    "# Multithreading is a technique where multiple threads are created to run tasks concurrently, allowing for more efficient use of resources when performing I/O-bound operations."
   ]
  },
  {
   "cell_type": "code",
   "execution_count": 15,
   "metadata": {},
   "outputs": [],
   "source": [
    "# Multithreading is a technique where multiple threads are created to run tasks concurrently, allowing for more efficient use of resources when performing I/O-bound operations."
   ]
  },
  {
   "cell_type": "code",
   "execution_count": 16,
   "metadata": {},
   "outputs": [
    {
     "name": "stdout",
     "output_type": "stream",
     "text": [
      "Hello from the thread!\n"
     ]
    }
   ],
   "source": [
    "import threading\n",
    "\n",
    "def print_hello():\n",
    "    print(\"Hello from the thread!\")\n",
    "\n",
    "# Creating a thread\n",
    "thread = threading.Thread(target=print_hello)\n",
    "thread.start()\n",
    "thread.join()  # Wait for the thread to finish before continuing\n"
   ]
  },
  {
   "cell_type": "code",
   "execution_count": 17,
   "metadata": {},
   "outputs": [],
   "source": [
    "# The GIL is a mechanism that prevents multiple native threads from executing Python bytecodes in parallel. It makes sure only one thread executes at a time in a single process, which can be a limiting factor for CPU-bound operations in multithreaded programs."
   ]
  },
  {
   "cell_type": "code",
   "execution_count": 18,
   "metadata": {},
   "outputs": [
    {
     "name": "stdout",
     "output_type": "stream",
     "text": [
      "Task 1 is running\n",
      "Task 2 is running\n"
     ]
    }
   ],
   "source": [
    "import threading\n",
    "\n",
    "def task1():\n",
    "    print(\"Task 1 is running\")\n",
    "\n",
    "def task2():\n",
    "    print(\"Task 2 is running\")\n",
    "\n",
    "# Create threads for each task\n",
    "thread1 = threading.Thread(target=task1)\n",
    "thread2 = threading.Thread(target=task2)\n",
    "\n",
    "# Start threads\n",
    "thread1.start()\n",
    "thread2.start()\n",
    "\n",
    "# Wait for threads to finish\n",
    "thread1.join()\n",
    "thread2.join()\n"
   ]
  },
  {
   "cell_type": "code",
   "execution_count": 19,
   "metadata": {},
   "outputs": [],
   "source": [
    "# The join() method is used to block the main thread until the thread on which join() is called has completed execution. This ensures that threads complete their work before the program continues."
   ]
  },
  {
   "cell_type": "code",
   "execution_count": 21,
   "metadata": {},
   "outputs": [],
   "source": [
    "# Multithreading is beneficial for I/O-bound tasks, such as web scraping, downloading files, or making multiple network requests simultaneously, where the program spends a lot of time waiting for external resources.\n",
    "\n",
    "# "
   ]
  },
  {
   "cell_type": "code",
   "execution_count": 22,
   "metadata": {},
   "outputs": [],
   "source": [
    "# Multiprocessing allows the creation of multiple processes, each with its own memory space and CPU core, enabling true parallelism. This is useful for CPU-bound tasks, as it can take full advantage of multiple CPU cores.\n",
    "\n"
   ]
  },
  {
   "cell_type": "code",
   "execution_count": 23,
   "metadata": {},
   "outputs": [],
   "source": [
    "# Multithreading: Multiple threads share the same memory space and are suitable for I/O-bound tasks.\n",
    "# Multiprocessing: Multiple processes run in separate memory spaces and are suitable for CPU-bound tasks"
   ]
  },
  {
   "cell_type": "code",
   "execution_count": 24,
   "metadata": {},
   "outputs": [],
   "source": [
    "import multiprocessing\n",
    "\n",
    "def task():\n",
    "    print(\"Task is running in a separate process\")\n",
    "\n",
    "# Create a process\n",
    "process = multiprocessing.Process(target=task)\n",
    "\n",
    "# Start the process\n",
    "process.start()\n",
    "\n",
    "# Wait for the process to finish\n",
    "process.join()\n"
   ]
  },
  {
   "cell_type": "code",
   "execution_count": null,
   "metadata": {},
   "outputs": [],
   "source": [
    "from multiprocessing import Pool\n",
    "\n",
    "def square(x):\n",
    "    return x * x\n",
    "\n",
    "if __name__ == \"__main__\":\n",
    "    with Pool(4) as p:  # Create a pool of 4 processes\n",
    "        results = p.map(square, [1, 2, 3, 4, 5])\n",
    "    print(results)\n"
   ]
  },
  {
   "cell_type": "code",
   "execution_count": null,
   "metadata": {},
   "outputs": [],
   "source": [
    "from multiprocessing import Process, Queue\n",
    "\n",
    "def worker(q):\n",
    "    q.put(\"Hello from the worker!\")\n",
    "\n",
    "if __name__ == \"__main__\":\n",
    "    q = Queue()\n",
    "    p = Process(target=worker, args=(q,))\n",
    "    p.start()\n",
    "    p.join()\n",
    "    print(q.get())  # Receive the message from the worker\n"
   ]
  },
  {
   "cell_type": "code",
   "execution_count": null,
   "metadata": {},
   "outputs": [],
   "source": []
  }
 ],
 "metadata": {
  "kernelspec": {
   "display_name": "base",
   "language": "python",
   "name": "python3"
  },
  "language_info": {
   "codemirror_mode": {
    "name": "ipython",
    "version": 3
   },
   "file_extension": ".py",
   "mimetype": "text/x-python",
   "name": "python",
   "nbconvert_exporter": "python",
   "pygments_lexer": "ipython3",
   "version": "3.11.5"
  }
 },
 "nbformat": 4,
 "nbformat_minor": 2
}
