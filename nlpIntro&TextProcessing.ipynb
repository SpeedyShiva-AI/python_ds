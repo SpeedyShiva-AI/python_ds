{
 "cells": [
  {
   "cell_type": "code",
   "execution_count": 1,
   "metadata": {},
   "outputs": [
    {
     "name": "stdout",
     "output_type": "stream",
     "text": [
      "['This', 'is', 'a', 'sample', 'sentence', '.']\n"
     ]
    }
   ],
   "source": [
    "from nltk.tokenize import word_tokenize\n",
    "sentence = \"This is a sample sentence.\"\n",
    "words = word_tokenize(sentence)\n",
    "print(words)\n"
   ]
  },
  {
   "cell_type": "code",
   "execution_count": 2,
   "metadata": {},
   "outputs": [
    {
     "name": "stdout",
     "output_type": "stream",
     "text": [
      "['This is the first sentence.', 'This is the second sentence.']\n"
     ]
    }
   ],
   "source": [
    "from nltk.tokenize import sent_tokenize\n",
    "text = \"This is the first sentence. This is the second sentence.\"\n",
    "sentences = sent_tokenize(text)\n",
    "print(sentences)\n"
   ]
  },
  {
   "cell_type": "code",
   "execution_count": 3,
   "metadata": {},
   "outputs": [
    {
     "name": "stdout",
     "output_type": "stream",
     "text": [
      "['sample', 'sentence', 'stopwords', '.']\n"
     ]
    }
   ],
   "source": [
    "from nltk.corpus import stopwords\n",
    "stop_words = set(stopwords.words('english'))\n",
    "words = word_tokenize(\"This is a sample sentence with some stopwords.\")\n",
    "filtered_words = [word for word in words if word.lower() not in stop_words]\n",
    "print(filtered_words)\n"
   ]
  },
  {
   "cell_type": "code",
   "execution_count": 4,
   "metadata": {},
   "outputs": [
    {
     "name": "stdout",
     "output_type": "stream",
     "text": [
      "run\n"
     ]
    }
   ],
   "source": [
    "from nltk.stem import PorterStemmer\n",
    "ps = PorterStemmer()\n",
    "word = \"running\"\n",
    "stemmed_word = ps.stem(word)\n",
    "print(stemmed_word)\n"
   ]
  },
  {
   "cell_type": "code",
   "execution_count": 5,
   "metadata": {},
   "outputs": [
    {
     "name": "stdout",
     "output_type": "stream",
     "text": [
      "run\n"
     ]
    }
   ],
   "source": [
    "from nltk.stem import WordNetLemmatizer\n",
    "lemmatizer = WordNetLemmatizer()\n",
    "word = \"running\"\n",
    "lemmatized_word = lemmatizer.lemmatize(word, pos=\"v\")\n",
    "print(lemmatized_word)\n"
   ]
  },
  {
   "cell_type": "code",
   "execution_count": 6,
   "metadata": {},
   "outputs": [
    {
     "name": "stdout",
     "output_type": "stream",
     "text": [
      "hello world\n"
     ]
    }
   ],
   "source": [
    "import string\n",
    "text = \"Hello, World!\"\n",
    "normalized_text = ''.join([char.lower() for char in text if char not in string.punctuation])\n",
    "print(normalized_text)\n"
   ]
  },
  {
   "cell_type": "code",
   "execution_count": 7,
   "metadata": {},
   "outputs": [
    {
     "name": "stdout",
     "output_type": "stream",
     "text": [
      "<FreqDist with 8 samples and 8 outcomes>\n"
     ]
    }
   ],
   "source": [
    "from nltk.util import bigrams\n",
    "from nltk import FreqDist\n",
    "words = word_tokenize(\"This is a simple sentence with simple words.\")\n",
    "bigram_list = list(bigrams(words))\n",
    "bigram_freq = FreqDist(bigram_list)\n",
    "print(bigram_freq)\n"
   ]
  },
  {
   "cell_type": "code",
   "execution_count": 8,
   "metadata": {},
   "outputs": [
    {
     "name": "stdout",
     "output_type": "stream",
     "text": [
      "['support@example.com', 'admin@example.org']\n"
     ]
    }
   ],
   "source": [
    "import re\n",
    "text = \"Please contact us at support@example.com or admin@example.org.\"\n",
    "emails = re.findall(r'\\b[A-Za-z0-9._%+-]+@[A-Za-z0-9.-]+\\.[A-Za-z]{2,}\\b', text)\n",
    "print(emails)\n"
   ]
  },
  {
   "cell_type": "code",
   "execution_count": 9,
   "metadata": {},
   "outputs": [
    {
     "name": "stdout",
     "output_type": "stream",
     "text": [
      "[-5.3622725e-04  2.3643136e-04  5.1033497e-03  9.0092728e-03\n",
      " -9.3029495e-03 -7.1168090e-03  6.4588725e-03  8.9729885e-03\n",
      " -5.0154282e-03 -3.7633716e-03  7.3805046e-03 -1.5334714e-03\n",
      " -4.5366134e-03  6.5540518e-03 -4.8601604e-03 -1.8160177e-03\n",
      "  2.8765798e-03  9.9187379e-04 -8.2852151e-03 -9.4488179e-03\n",
      "  7.3117660e-03  5.0702621e-03  6.7576934e-03  7.6286553e-04\n",
      "  6.3508903e-03 -3.4053659e-03 -9.4640139e-04  5.7685734e-03\n",
      " -7.5216377e-03 -3.9361035e-03 -7.5115822e-03 -9.3004224e-04\n",
      "  9.5381187e-03 -7.3191668e-03 -2.3337686e-03 -1.9377411e-03\n",
      "  8.0774371e-03 -5.9308959e-03  4.5162440e-05 -4.7537340e-03\n",
      " -9.6035507e-03  5.0072931e-03 -8.7595852e-03 -4.3918253e-03\n",
      " -3.5099984e-05 -2.9618145e-04 -7.6612402e-03  9.6147433e-03\n",
      "  4.9820580e-03  9.2331432e-03 -8.1579173e-03  4.4957981e-03\n",
      " -4.1370760e-03  8.2453608e-04  8.4986202e-03 -4.4621765e-03\n",
      "  4.5175003e-03 -6.7869602e-03 -3.5484887e-03  9.3985079e-03\n",
      " -1.5776526e-03  3.2137157e-04 -4.1406299e-03 -7.6826881e-03\n",
      " -1.5080082e-03  2.4697948e-03 -8.8802696e-04  5.5336617e-03\n",
      " -2.7429771e-03  2.2600652e-03  5.4557943e-03  8.3459532e-03\n",
      " -1.4537406e-03 -9.2081428e-03  4.3705525e-03  5.7178497e-04\n",
      "  7.4419081e-03 -8.1328274e-04 -2.6384138e-03 -8.7530091e-03\n",
      " -8.5655687e-04  2.8265631e-03  5.4014288e-03  7.0526563e-03\n",
      " -5.7031214e-03  1.8588197e-03  6.0888636e-03 -4.7980510e-03\n",
      " -3.1072604e-03  6.7976294e-03  1.6314756e-03  1.8991709e-04\n",
      "  3.4736372e-03  2.1777749e-04  9.6188262e-03  5.0606038e-03\n",
      " -8.9173904e-03 -7.0415605e-03  9.0145587e-04  6.3925339e-03]\n"
     ]
    }
   ],
   "source": [
    "from nltk.tokenize import word_tokenize\n",
    "from gensim.models import Word2Vec\n",
    "sentences = [[\"this\", \"is\", \"a\", \"sentence\"], [\"another\", \"sentence\", \"here\"]]\n",
    "model = Word2Vec(sentences, min_count=1)\n",
    "word_vector = model.wv['sentence']\n",
    "print(word_vector)\n"
   ]
  },
  {
   "cell_type": "code",
   "execution_count": 10,
   "metadata": {},
   "outputs": [
    {
     "name": "stdout",
     "output_type": "stream",
     "text": [
      "[-0.01112849  0.00862774 -0.02370042 -0.00887327 -0.0075678   0.00234121\n",
      "  0.01158466  0.0229947  -0.01588244 -0.02163419 -0.0116406   0.00448965\n",
      " -0.00343038  0.02141849 -0.01550812  0.01803345 -0.02009873 -0.00054888\n",
      "  0.01479166  0.01124894]\n"
     ]
    }
   ],
   "source": [
    "# 10\n",
    "from gensim.models.doc2vec import Doc2Vec, TaggedDocument\n",
    "documents = [TaggedDocument([\"this\", \"is\", \"document\", \"one\"], tags=[1]),\n",
    "             TaggedDocument([\"this\", \"is\", \"document\", \"two\"], tags=[2])]\n",
    "model = Doc2Vec(documents, vector_size=20, window=2, min_count=1, workers=4)\n",
    "vector = model.infer_vector([\"this\", \"is\", \"document\", \"three\"])\n",
    "print(vector)\n"
   ]
  },
  {
   "cell_type": "code",
   "execution_count": null,
   "metadata": {},
   "outputs": [],
   "source": []
  },
  {
   "cell_type": "code",
   "execution_count": 12,
   "metadata": {},
   "outputs": [
    {
     "name": "stdout",
     "output_type": "stream",
     "text": [
      "[[1. 0.]\n",
      " [0. 1.]]\n"
     ]
    }
   ],
   "source": [
    "from sklearn.metrics.pairwise import cosine_similarity\n",
    "from sklearn.feature_extraction.text import CountVectorizer\n",
    "text1 = \"I love programming.\"\n",
    "text2 = \"I enjoy coding.\"\n",
    "count_vectorizer = CountVectorizer()\n",
    "vectors = count_vectorizer.fit_transform([text1, text2])\n",
    "cosine_sim = cosine_similarity(vectors)\n",
    "print(cosine_sim)\n"
   ]
  },
  {
   "cell_type": "code",
   "execution_count": null,
   "metadata": {},
   "outputs": [],
   "source": [
    "\n",
    "\n"
   ]
  },
  {
   "cell_type": "code",
   "execution_count": 14,
   "metadata": {},
   "outputs": [
    {
     "name": "stdout",
     "output_type": "stream",
     "text": [
      "['This is a very long document t', 'hat needs to be split into sma', 'ller chunks.']\n"
     ]
    }
   ],
   "source": [
    "def chunk_text(text, chunk_size=100):\n",
    "    return [text[i:i+chunk_size] for i in range(0, len(text), chunk_size)]\n",
    "\n",
    "text = \"This is a very long document that needs to be split into smaller chunks.\"\n",
    "chunks = chunk_text(text, chunk_size=30)\n",
    "print(chunks)\n"
   ]
  },
  {
   "cell_type": "code",
   "execution_count": 15,
   "metadata": {},
   "outputs": [
    {
     "name": "stdout",
     "output_type": "stream",
     "text": [
      "[[0.         0.46941728 0.61722732 0.3645444  0.         0.\n",
      "  0.3645444  0.         0.3645444 ]\n",
      " [0.         0.7284449  0.         0.28285122 0.         0.47890875\n",
      "  0.28285122 0.         0.28285122]\n",
      " [0.49711994 0.         0.         0.29360705 0.49711994 0.\n",
      "  0.29360705 0.49711994 0.29360705]]\n"
     ]
    }
   ],
   "source": [
    "from sklearn.feature_extraction.text import TfidfVectorizer\n",
    "documents = [\"this is the first document\", \"this document is the second document\", \"and this is the third one\"]\n",
    "vectorizer = TfidfVectorizer()\n",
    "tfidf_matrix = vectorizer.fit_transform(documents)\n",
    "print(tfidf_matrix.toarray())\n"
   ]
  },
  {
   "cell_type": "code",
   "execution_count": 16,
   "metadata": {},
   "outputs": [
    {
     "name": "stdout",
     "output_type": "stream",
     "text": [
      "['sampl', 'sentenc', 'stopword', '.']\n"
     ]
    }
   ],
   "source": [
    "from nltk.tokenize import word_tokenize\n",
    "from nltk.corpus import stopwords\n",
    "from nltk.stem import PorterStemmer\n",
    "sentence = \"This is a sample sentence with some stopwords.\"\n",
    "\n",
    "stop_words = set(stopwords.words('english'))\n",
    "words = word_tokenize(sentence)\n",
    "ps = PorterStemmer()\n",
    "processed_words = [ps.stem(word) for word in words if word.lower() not in stop_words]\n",
    "print(processed_words)\n"
   ]
  },
  {
   "cell_type": "code",
   "execution_count": 17,
   "metadata": {},
   "outputs": [
    {
     "data": {
      "image/png": "[encoded data removed]",
      "text/plain": [
       "<Figure size 640x480 with 1 Axes>"
      ]
     },
     "metadata": {},
     "output_type": "display_data"
    },
    {
     "data": {
      "text/plain": [
       "<Axes: xlabel='Samples', ylabel='Counts'>"
      ]
     },
     "execution_count": 17,
     "metadata": {},
     "output_type": "execute_result"
    }
   ],
   "source": [
    "from nltk import FreqDist\n",
    "words = word_tokenize(\"This is a sentence with repeated words, words, words.\")\n",
    "freq_dist = FreqDist(words)\n",
    "freq_dist.plot()\n"
   ]
  },
  {
   "cell_type": "code",
   "execution_count": 19,
   "metadata": {},
   "outputs": [],
   "source": [
    "#Theory\n",
    "#1.\n",
    "# The primary goal of NLP is to enable computers to understand, interpret, and generate human language in a way that is valuable. It involves tasks such as language translation, sentiment analysis, speech recognition, text summarization, and more."
   ]
  },
  {
   "cell_type": "code",
   "execution_count": 20,
   "metadata": {},
   "outputs": [],
   "source": [
    "# Tokenization is the process of breaking text into smaller units called \"tokens.\" These tokens can be words, sentences, or even subwords. It’s a fundamental step in NLP as it prepares text data for further processing."
   ]
  },
  {
   "cell_type": "code",
   "execution_count": 21,
   "metadata": {},
   "outputs": [],
   "source": [
    "# Stemming involves reducing a word to its root form by chopping off prefixes or suffixes (e.g., \"running\" to \"run\").\n",
    "# Lemmatization involves reducing a word to its base or dictionary form (called the lemma), considering the word’s meaning (e.g., \"better\" to \"good\")."
   ]
  },
  {
   "cell_type": "code",
   "execution_count": 22,
   "metadata": {},
   "outputs": [],
   "source": [
    "# Regex is used in text processing to search for patterns or sequences in strings. It can be used to clean data (e.g., removing unwanted characters), extract specific pieces of information (e.g., emails, phone numbers), or validate input (e.g., checking for proper formatting)."
   ]
  },
  {
   "cell_type": "code",
   "execution_count": 23,
   "metadata": {},
   "outputs": [],
   "source": [
    "# Word2Vec is a word embedding model that learns vector representations of words based on their context in a large text corpus. It uses a neural network to predict surrounding words (skip-gram model) or uses context words to predict a target word (CBOW). Words with similar meanings are represented by similar vectors in the vector space."
   ]
  },
  {
   "cell_type": "code",
   "execution_count": 24,
   "metadata": {},
   "outputs": [],
   "source": [
    "# Frequency distribution in text analysis helps identify the most common words in a corpus. It provides insights into the significance of words, their occurrence patterns, and helps with tasks like feature selection, stopword removal, and understanding the structure of the text."
   ]
  },
  {
   "cell_type": "code",
   "execution_count": 25,
   "metadata": {},
   "outputs": [],
   "source": [
    "# Text normalization ensures consistency in the text data by converting it into a standard format. This includes lowercasing, removing punctuation, correcting spelling errors, and dealing with abbreviations. It helps to improve the performance of NLP models by reducing unnecessary complexity in the input data."
   ]
  },
  {
   "cell_type": "code",
   "execution_count": 26,
   "metadata": {},
   "outputs": [],
   "source": [
    "# Sentence tokenization divides a text into sentences based on punctuation like periods, exclamation points, etc.\n",
    "# Word tokenization splits text into individual words or terms by recognizing spaces and punctuation as boundaries."
   ]
  },
  {
   "cell_type": "code",
   "execution_count": 27,
   "metadata": {},
   "outputs": [],
   "source": [
    "# Co-occurrence vectors are used to represent the frequency with which words appear together in a specified context, such as within a window of words in a sentence or document. These vectors are helpful in capturing word associations and are often used in word embedding models."
   ]
  },
  {
   "cell_type": "code",
   "execution_count": 28,
   "metadata": {},
   "outputs": [],
   "source": [
    "# Lemmatization improves NLP tasks by ensuring that different forms of a word (e.g., \"run,\" \"running,\" \"ran\") are treated as the same word. This improves the consistency and quality of features, leading to more accurate results in tasks like text classification, sentiment analysis, and information retrieval."
   ]
  },
  {
   "cell_type": "code",
   "execution_count": 29,
   "metadata": {},
   "outputs": [],
   "source": [
    "# Word embeddings represent words in continuous vector space where semantically similar words are mapped close to each other. These embeddings are crucial for improving tasks like machine translation, text classification, and sentiment analysis by capturing contextual information."
   ]
  },
  {
   "cell_type": "code",
   "execution_count": 31,
   "metadata": {},
   "outputs": [],
   "source": [
    "# An annotator in NLP is a tool or process that labels or tags different components of text with specific information, such as parts of speech (POS) tags, named entities (NER), or syntactic structure. These annotations help in understanding and processing the text for further tasks.\n"
   ]
  },
  {
   "cell_type": "code",
   "execution_count": null,
   "metadata": {},
   "outputs": [],
   "source": [
    "# Tokenization: Breaking text into words or sentences.\n",
    "# Removing stopwords: Eliminating common but unimportant words.\n",
    "# Text normalization: Lowercasing, removing punctuation, etc.\n",
    "# Stemming or lemmatization: Reducing words to their root form.\n",
    "# Feature extraction: Converting text into numerical features (e.g., TF-IDF, word embeddings).\n",
    "# Vectorization: Representing text as vectors for machine learning models.\n"
   ]
  },
  {
   "cell_type": "code",
   "execution_count": 32,
   "metadata": {},
   "outputs": [],
   "source": [
    "# NLP has evolved from simple rule-based systems (like ELIZA in the 1960s) to statistical models, and now to deep learning-based approaches with large language models like GPT. Early models focused on syntax and grammar, but modern NLP emphasizes semantics, context, and large-scale data."
   ]
  },
  {
   "cell_type": "code",
   "execution_count": 33,
   "metadata": {},
   "outputs": [],
   "source": [
    "# Sentence processing is crucial because it helps machines understand the structure and meaning of sentences, including grammar, syntax, and context. It’s important for tasks like machine translation, summarization, and question-answering, where understanding sentence-level structure is key.\n",
    "#\n"
   ]
  },
  {
   "cell_type": "code",
   "execution_count": 34,
   "metadata": {},
   "outputs": [],
   "source": [
    "# Word embeddings capture semantic relationships between words by representing them as vectors. Words with similar meanings or contexts have similar vector representations. This helps NLP models understand synonyms, word analogies, and other semantic relationships.\n",
    "\n"
   ]
  },
  {
   "cell_type": "code",
   "execution_count": 35,
   "metadata": {},
   "outputs": [],
   "source": [
    "# Frequency distribution helps in identifying the most significant features (words) in the text. It allows for filtering out irrelevant words and can assist in selecting important terms for text classification tasks, improving the model’s ability to categorize documents accurately.\n",
    "\n"
   ]
  },
  {
   "cell_type": "code",
   "execution_count": 36,
   "metadata": {},
   "outputs": [],
   "source": [
    "# Regex allows for powerful and flexible text cleaning by matching specific patterns. It can efficiently:\n",
    "\n",
    "# Remove unwanted characters or words.\n",
    "# Extract specific pieces of information.\n",
    "# Validate input formats (like emails or dates). It is a quick and precise tool for various text-cleaning tasks."
   ]
  },
  {
   "cell_type": "code",
   "execution_count": 37,
   "metadata": {},
   "outputs": [],
   "source": [
    "# Word2Vec: Generates vector representations for individual words based on their context within a corpus.\n",
    "# Doc2Vec: Extends Word2Vec to generate vector representations for entire documents (sentences, paragraphs, or complete texts) by adding a unique document vector alongside word vectors."
   ]
  },
  {
   "cell_type": "code",
   "execution_count": 38,
   "metadata": {},
   "outputs": [],
   "source": [
    "# Text normalization ensures data consistency by converting text into a standard format. It is essential because human language is diverse and noisy (case differences, slang, punctuation). Proper normalization improves the accuracy of NLP models.\n",
    "\n"
   ]
  },
  {
   "cell_type": "code",
   "execution_count": 39,
   "metadata": {},
   "outputs": [],
   "source": [
    "# Word count provides insights into the frequency and importance of words in a corpus. It can help identify dominant themes, filter stopwords, or serve as features for text classification models.\n",
    "\n",
    "#"
   ]
  },
  {
   "cell_type": "code",
   "execution_count": 40,
   "metadata": {},
   "outputs": [],
   "source": [
    "# Lemmatization maps different word forms to their base form (lemma). This helps:\n",
    "\n",
    "# Search engines: Improve query matching by treating variations of the same word equally (e.g., \"runs\" and \"running\" as \"run\").\n",
    "# Chatbots: Better understand user input by capturing the intended meaning regardless of tense or form."
   ]
  },
  {
   "cell_type": "code",
   "execution_count": 41,
   "metadata": {},
   "outputs": [],
   "source": [
    "# Doc2Vec helps generate fixed-size vector representations for variable-length texts. These vectors capture the semantic meaning of the entire document, which is crucial for tasks like document classification, topic modeling, and similarity searches.\n",
    "\n",
    "# "
   ]
  },
  {
   "cell_type": "code",
   "execution_count": 42,
   "metadata": {},
   "outputs": [],
   "source": [
    "# Sentence processing allows models to capture context, structure, and meaning at the sentence level. It is vital for:\n",
    "\n",
    "# Machine translation: Translating meaningful sentences rather than isolated words.\n",
    "# Summarization and sentiment analysis: Understanding complete thoughts rather than fragments."
   ]
  },
  {
   "cell_type": "code",
   "execution_count": 43,
   "metadata": {},
   "outputs": [],
   "source": [
    "# Text normalization converts text into a standard format. Common techniques include:\n",
    "\n",
    "# Lowercasing: Converting text to lowercase.\n",
    "# Removing punctuation: Eliminating symbols that do not add meaning.\n",
    "# Removing stopwords: Filtering out common, non-informative words.\n",
    "# Stemming/Lemmatization: Reducing words to their base or root form."
   ]
  },
  {
   "cell_type": "code",
   "execution_count": 44,
   "metadata": {},
   "outputs": [],
   "source": [
    "# Word tokenization breaks text into individual words, enabling further processing. It allows NLP models to analyze text, count word frequencies, and build embeddings for machine learning tasks.\n",
    "\n"
   ]
  },
  {
   "cell_type": "code",
   "execution_count": null,
   "metadata": {},
   "outputs": [],
   "source": [
    "# Sentence tokenization: Splits text into sentences.\n",
    "# Word tokenization: Further divides sentences into individual words.\n",
    "# Sentence tokenization helps in tasks like summarization, while word tokenization is essential for text classification and language modeling."
   ]
  },
  {
   "cell_type": "code",
   "execution_count": 45,
   "metadata": {},
   "outputs": [],
   "source": [
    "# The primary purpose is to transform unstructured text into structured data that can be used by machine learning models to extract insights, make predictions, or automate language-based tasks.\n",
    "\n"
   ]
  },
  {
   "cell_type": "code",
   "execution_count": null,
   "metadata": {},
   "outputs": [],
   "source": [
    "# Ambiguity: Words and sentences may have multiple meanings.\n",
    "# Context understanding: Capturing long-range dependencies.\n",
    "# Language diversity: Dealing with multiple languages and dialects.\n",
    "# Noisy data: Handling typos, slang, and informal language.\n",
    "# Computation: High resource requirements for large models."
   ]
  },
  {
   "cell_type": "code",
   "execution_count": null,
   "metadata": {},
   "outputs": [],
   "source": [
    "# Co-occurrence vectors represent how often words appear together within a specific context (e.g., a window of words). These vectors capture semantic relationships, with similar contexts leading to similar vector representations."
   ]
  },
  {
   "cell_type": "code",
   "execution_count": 46,
   "metadata": {},
   "outputs": [],
   "source": [
    "# Frequency distribution identifies the most common words or phrases in a corpus. It provides insights into text patterns, helps detect stopwords, and can assist in feature engineering for NLP tasks."
   ]
  },
  {
   "cell_type": "code",
   "execution_count": null,
   "metadata": {},
   "outputs": [],
   "source": [
    "# Word embeddings capture semantic relationships between words by representing them as vectors in continuous space. They improve the performance of NLP tasks like machine translation, sentiment analysis, and text classification by capturing contextual information.\n",
    "\n"
   ]
  },
  {
   "cell_type": "code",
   "execution_count": null,
   "metadata": {},
   "outputs": [],
   "source": [
    "# Lemmatization reduces words to their base form, which improves data consistency and model performance. It ensures that different forms of a word are treated as the same feature, enhancing tasks like search, classification, and semantic analysis.\n",
    "\n"
   ]
  },
  {
   "cell_type": "code",
   "execution_count": null,
   "metadata": {},
   "outputs": [],
   "source": []
  }
 ],
 "metadata": {
  "kernelspec": {
   "display_name": "base",
   "language": "python",
   "name": "python3"
  },
  "language_info": {
   "codemirror_mode": {
    "name": "ipython",
    "version": 3
   },
   "file_extension": ".py",
   "mimetype": "text/x-python",
   "name": "python",
   "nbconvert_exporter": "python",
   "pygments_lexer": "ipython3",
   "version": "3.11.5"
  }
 },
 "nbformat": 4,
 "nbformat_minor": 2
}
