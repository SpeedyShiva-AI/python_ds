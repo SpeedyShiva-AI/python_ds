{
 "cells": [
  {
   "cell_type": "code",
   "execution_count": 3,
   "metadata": {},
   "outputs": [
    {
     "name": "stdout",
     "output_type": "stream",
     "text": [
      "Mean: 110.17\n",
      "Median: 110.0\n",
      "Mode: 125\n"
     ]
    }
   ],
   "source": [
    "import statistics\n",
    "import random\n",
    "\n",
    "int_list = [random.randint(90, 130) for _ in range(100)]\n",
    "\n",
    "def calculate_mean(lst):\n",
    "    return sum(lst) / len(lst)\n",
    "\n",
    "def calculate_median(lst):\n",
    "    return statistics.median(lst)\n",
    "\n",
    "def calculate_mode(lst):\n",
    "    return statistics.mode(lst)\n",
    "\n",
    "print(f\"Mean: {calculate_mean(int_list)}\")\n",
    "print(f\"Median: {calculate_median(int_list)}\")\n",
    "print(f\"Mode: {calculate_mode(int_list)}\")\n"
   ]
  },
  {
   "cell_type": "code",
   "execution_count": 4,
   "metadata": {},
   "outputs": [
    {
     "name": "stdout",
     "output_type": "stream",
     "text": [
      "Range: 100\n",
      "Variance: 791.5827655310621\n",
      "Standard Deviation: 28.13508069174606\n",
      "Interquartile Range: 22.75\n",
      "Coefficient of Variation: 0.11190470404799166\n",
      "Mean Absolute Deviation (MAD): 23.95664\n",
      "Quartile Deviation: 11.375\n",
      "Range-Based Coefficient of Dispersion: 0.3977408320738207\n"
     ]
    }
   ],
   "source": [
    "#2\n",
    "import random\n",
    "\n",
    "\n",
    "#i\n",
    "int_list2 = [random.randint(200, 300) for _ in range(500)]\n",
    "\n",
    "# ii\n",
    "def calculate_range(numbers):\n",
    "    return max(numbers) - min(numbers)\n",
    "\n",
    "range_value = calculate_range(int_list2)\n",
    "print(\"Range:\", range_value)\n",
    "\n",
    "# iii\n",
    "import statistics\n",
    "\n",
    "def calc_variance_and_std(numbers):\n",
    "    variance = statistics.variance(numbers)\n",
    "    std_deviation = statistics.stdev(numbers)\n",
    "    return variance, std_deviation\n",
    "\n",
    "variance, std_deviation = calc_variance_and_std(int_list2)\n",
    "print(\"Variance:\", variance)\n",
    "print(\"Standard Deviation:\", std_deviation)\n",
    "\n",
    "\n",
    "#iv\n",
    "def calc_iqr(numbers):\n",
    "    q75, q25 = statistics.quantiles(numbers, n=4)[-1], statistics.quantiles(numbers, n=4)[1]\n",
    "    return q75 - q25\n",
    "\n",
    "iqr_value = calc_iqr(int_list2)\n",
    "print(\"Interquartile Range:\", iqr_value)\n",
    "\n",
    "# v\n",
    "def calc_coefficient_of_variation(numbers):\n",
    "    mean = statistics.mean(numbers)\n",
    "    std_dev = statistics.stdev(numbers)\n",
    "    return std_dev / mean\n",
    "\n",
    "cv_value = calc_coefficient_of_variation(int_list2)\n",
    "print(\"Coefficient of Variation:\", cv_value)\n",
    "\n",
    "# vi\n",
    "def calc_mad(numbers):\n",
    "    mean = statistics.mean(numbers)\n",
    "    return statistics.mean([abs(x - mean) for x in numbers])\n",
    "\n",
    "mad_value = calc_mad(int_list2)\n",
    "print(\"Mean Absolute Deviation (MAD):\", mad_value)\n",
    "\n",
    "\n",
    "# vii\n",
    "def calc_quartile_deviation(numbers):\n",
    "    q75, q25 = statistics.quantiles(numbers, n=4)[-1], statistics.quantiles(numbers, n=4)[1]\n",
    "    return (q75 - q25) / 2\n",
    "\n",
    "quartile_deviation = calc_quartile_deviation(int_list2)\n",
    "print(\"Quartile Deviation:\", quartile_deviation)\n",
    "\n",
    "\n",
    "# viii\n",
    "def calc_range_based_dispersion(numbers):\n",
    "    return (max(numbers) - min(numbers)) / statistics.mean(numbers)\n",
    "\n",
    "dispersion_value = calc_range_based_dispersion(int_list2)\n",
    "print(\"Range-Based Coefficient of Dispersion:\", dispersion_value)\n"
   ]
  },
  {
   "cell_type": "code",
   "execution_count": 5,
   "metadata": {},
   "outputs": [
    {
     "name": "stdout",
     "output_type": "stream",
     "text": [
      "Expected Value: 3.2\n",
      "Variance: 1.56\n"
     ]
    }
   ],
   "source": [
    "#3\n",
    "class DiscreteRandomVariable:\n",
    "    def __init__(self, values, probabilities):\n",
    "        self.values = values\n",
    "        self.probabilities = probabilities\n",
    "    \n",
    "    def expected_value(self):\n",
    "        return sum(v * p for v, p in zip(self.values, self.probabilities))\n",
    "    \n",
    "    def variance(self):\n",
    "        expected = self.expected_value()\n",
    "        return sum(p * (v - expected) ** 2 for v, p in zip(self.values, self.probabilities))\n",
    "\n",
    "# Example usage\n",
    "values = [1, 2, 3, 4, 5]\n",
    "probabilities = [0.1, 0.2, 0.3, 0.2, 0.2]\n",
    "random_var = DiscreteRandomVariable(values, probabilities)\n",
    "\n",
    "print(\"Expected Value:\", random_var.expected_value())\n",
    "print(\"Variance:\", random_var.variance())\n"
   ]
  },
  {
   "cell_type": "code",
   "execution_count": 6,
   "metadata": {},
   "outputs": [
    {
     "name": "stdout",
     "output_type": "stream",
     "text": [
      "Expected Value of Die Roll: 3.5\n",
      "Variance of Die Roll: 2.9166666666666665\n"
     ]
    }
   ],
   "source": [
    "import random\n",
    "\n",
    "# Simulate rolling a fair six-sided die\n",
    "outcomes = [1, 2, 3, 4, 5, 6]\n",
    "probabilities = [1/6] * 6\n",
    "\n",
    "def expected_value(outcomes, probabilities):\n",
    "    return sum(o * p for o, p in zip(outcomes, probabilities))\n",
    "\n",
    "def variance(outcomes, probabilities, expected):\n",
    "    return sum(p * (o - expected) ** 2 for o, p in zip(outcomes, probabilities))\n",
    "\n",
    "# Calculate expected value and variance\n",
    "exp_value = expected_value(outcomes, probabilities)\n",
    "var_value = variance(outcomes, probabilities, exp_value)\n",
    "\n",
    "print(\"Expected Value of Die Roll:\", exp_value)\n",
    "print(\"Variance of Die Roll:\", var_value)\n"
   ]
  },
  {
   "cell_type": "code",
   "execution_count": 7,
   "metadata": {},
   "outputs": [
    {
     "name": "stdout",
     "output_type": "stream",
     "text": [
      "Binomial Mean: 5.027\n",
      "Binomial Variance: 2.472271\n",
      "Poisson Mean: 4.911\n",
      "Poisson Variance: 4.863079\n"
     ]
    }
   ],
   "source": [
    "import numpy as np\n",
    "\n",
    "# Generate random samples from Binomial distribution\n",
    "def generate_binomial_samples(n, p, size):\n",
    "    samples = np.random.binomial(n, p, size)\n",
    "    mean = np.mean(samples)\n",
    "    variance = np.var(samples)\n",
    "    return samples, mean, variance\n",
    "\n",
    "# Generate random samples from Poisson distribution\n",
    "def generate_poisson_samples(lam, size):\n",
    "    samples = np.random.poisson(lam, size)\n",
    "    mean = np.mean(samples)\n",
    "    variance = np.var(samples)\n",
    "    return samples, mean, variance\n",
    "\n",
    "# Example usage\n",
    "binomial_samples, binomial_mean, binomial_variance = generate_binomial_samples(10, 0.5, 1000)\n",
    "poisson_samples, poisson_mean, poisson_variance = generate_poisson_samples(5, 1000)\n",
    "\n",
    "print(\"Binomial Mean:\", binomial_mean)\n",
    "print(\"Binomial Variance:\", binomial_variance)\n",
    "print(\"Poisson Mean:\", poisson_mean)\n",
    "print(\"Poisson Variance:\", poisson_variance)\n"
   ]
  },
  {
   "cell_type": "code",
   "execution_count": 8,
   "metadata": {},
   "outputs": [
    {
     "name": "stdout",
     "output_type": "stream",
     "text": [
      "Gaussian Mean: 0.008804074683337826\n",
      "Gaussian Variance: 0.9012594425959553\n",
      "Gaussian Standard Deviation: 0.949346850521955\n"
     ]
    }
   ],
   "source": [
    "# Generate random numbers from Gaussian distribution\n",
    "def generate_gaussian_samples(mu, sigma, size):\n",
    "    samples = np.random.normal(mu, sigma, size)\n",
    "    mean = np.mean(samples)\n",
    "    variance = np.var(samples)\n",
    "    std_dev = np.std(samples)\n",
    "    return samples, mean, variance, std_dev\n",
    "\n",
    "# Example usage\n",
    "gaussian_samples, gaussian_mean, gaussian_variance, gaussian_std_dev = generate_gaussian_samples(0, 1, 1000)\n",
    "\n",
    "print(\"Gaussian Mean:\", gaussian_mean)\n",
    "print(\"Gaussian Variance:\", gaussian_variance)\n",
    "print(\"Gaussian Standard Deviation:\", gaussian_std_dev)\n"
   ]
  },
  {
   "cell_type": "code",
   "execution_count": 12,
   "metadata": {},
   "outputs": [
    {
     "name": "stdout",
     "output_type": "stream",
     "text": [
      "Skewness of total_bill: 1.1332130376158205\n",
      "Skewness of tip: 1.4654510370979401\n"
     ]
    }
   ],
   "source": [
    "#7\n",
    "import seaborn as sns\n",
    "\n",
    "# Load the tips dataset\n",
    "tips = sns.load_dataset('tips')\n",
    "\n",
    "# Function to calculate skewness\n",
    "def calculate_skewness(column):\n",
    "    return column.skew()\n",
    "\n",
    "# Skewness of total_bill and tip columns\n",
    "total_bill_skewness = calculate_skewness(tips['total_bill'])\n",
    "tip_skewness = calculate_skewness(tips['tip'])\n",
    "\n",
    "print(\"Skewness of total_bill:\", total_bill_skewness)\n",
    "print(\"Skewness of tip:\", tip_skewness)\n"
   ]
  },
  {
   "cell_type": "code",
   "execution_count": 13,
   "metadata": {},
   "outputs": [
    {
     "name": "stdout",
     "output_type": "stream",
     "text": [
      "Skewness type of total_bill: Positive Skewness\n",
      "Skewness type of tip: Positive Skewness\n"
     ]
    }
   ],
   "source": [
    "# Function to determine skewness type\n",
    "def skewness_type(column):\n",
    "    skew = column.skew()\n",
    "    if skew > 0:\n",
    "        return \"Positive Skewness\"\n",
    "    elif skew < 0:\n",
    "        return \"Negative Skewness\"\n",
    "    else:\n",
    "        return \"Symmetric\"\n",
    "\n",
    "# Determine skewness type for total_bill and tip\n",
    "total_bill_skew = skewness_type(tips['total_bill'])\n",
    "tip_skew = skewness_type(tips['tip'])\n",
    "\n",
    "print(\"Skewness type of total_bill:\", total_bill_skew)\n",
    "print(\"Skewness type of tip:\", tip_skew)\n"
   ]
  },
  {
   "cell_type": "code",
   "execution_count": 14,
   "metadata": {},
   "outputs": [
    {
     "name": "stdout",
     "output_type": "stream",
     "text": [
      "Covariance between total_bill and tip: 8.323501629224854\n"
     ]
    }
   ],
   "source": [
    "# Function to calculate covariance\n",
    "def calculate_covariance(column1, column2):\n",
    "    return column1.cov(column2)\n",
    "\n",
    "# Covariance between total_bill and tip\n",
    "covariance = calculate_covariance(tips['total_bill'], tips['tip'])\n",
    "\n",
    "print(\"Covariance between total_bill and tip:\", covariance)\n"
   ]
  },
  {
   "cell_type": "code",
   "execution_count": 15,
   "metadata": {},
   "outputs": [
    {
     "name": "stdout",
     "output_type": "stream",
     "text": [
      "Pearson correlation coefficient between total_bill and tip: 0.6757341092113645\n"
     ]
    }
   ],
   "source": [
    "# Function to calculate Pearson correlation coefficient\n",
    "def calculate_pearson_correlation(column1, column2):\n",
    "    return column1.corr(column2)\n",
    "\n",
    "# Pearson correlation between total_bill and tip\n",
    "pearson_corr = calculate_pearson_correlation(tips['total_bill'], tips['tip'])\n",
    "\n",
    "print(\"Pearson correlation coefficient between total_bill and tip:\", pearson_corr)\n"
   ]
  },
  {
   "cell_type": "code",
   "execution_count": 17,
   "metadata": {},
   "outputs": [
    {
     "data": {
      "image/png": "[encoded data removed]",
      "text/plain": [
       "<Figure size 600x400 with 1 Axes>"
      ]
     },
     "metadata": {},
     "output_type": "display_data"
    }
   ],
   "source": [
    "import matplotlib.pyplot as plt\n",
    "\n",
    "# Scatter plot to visualize correlation\n",
    "def plot_scatter(column1, column2):\n",
    "    plt.figure(figsize=(6, 4))\n",
    "    plt.scatter(column1, column2, alpha=0.6, color='blue')\n",
    "    plt.xlabel(column1.name)\n",
    "    plt.ylabel(column2.name)\n",
    "    plt.title(f\"Scatter Plot of {column1.name} vs {column2.name}\")\n",
    "    plt.show()\n",
    "\n",
    "# Plot scatter between total_bill and tip\n",
    "plot_scatter(tips['total_bill'], tips['tip'])\n"
   ]
  },
  {
   "cell_type": "code",
   "execution_count": 19,
   "metadata": {},
   "outputs": [
    {
     "name": "stdout",
     "output_type": "stream",
     "text": [
      "PDF at x = 1 for N(0, 1^2): 0.24197072451914337\n"
     ]
    }
   ],
   "source": [
    "#8\n",
    "import math\n",
    "\n",
    "# Function to calculate PDF for a normal distribution\n",
    "def normal_pdf(x, mu, sigma):\n",
    "    return (1 / (sigma * math.sqrt(2 * math.pi))) * math.exp(-0.5 * ((x - mu) / sigma) ** 2)\n",
    "\n",
    "# Example usage\n",
    "mu = 0  # Mean\n",
    "sigma = 1  # Standard deviation\n",
    "x = 1  # Value to calculate PDF for\n",
    "\n",
    "pdf_value = normal_pdf(x, mu, sigma)\n",
    "print(f\"PDF at x = {x} for N({mu}, {sigma}^2): {pdf_value}\")\n"
   ]
  },
  {
   "cell_type": "code",
   "execution_count": 20,
   "metadata": {},
   "outputs": [
    {
     "name": "stdout",
     "output_type": "stream",
     "text": [
      "CDF at x = 2 for Exp(1): 0.8646647167633873\n"
     ]
    }
   ],
   "source": [
    "import math\n",
    "\n",
    "# Function to calculate CDF for exponential distribution\n",
    "def exponential_cdf(x, lambda_):\n",
    "    return 1 - math.exp(-lambda_ * x)\n",
    "\n",
    "# Example usage\n",
    "lambda_ = 1  # Rate parameter\n",
    "x = 2  # Value to calculate CDF for\n",
    "\n",
    "cdf_value = exponential_cdf(x, lambda_)\n",
    "print(f\"CDF at x = {x} for Exp({lambda_}): {cdf_value}\")\n"
   ]
  },
  {
   "cell_type": "code",
   "execution_count": 21,
   "metadata": {},
   "outputs": [
    {
     "name": "stdout",
     "output_type": "stream",
     "text": [
      "PMF at x = 2 for Poisson(3): 0.22404180765538775\n"
     ]
    }
   ],
   "source": [
    "import math\n",
    "\n",
    "# Function to calculate PMF for Poisson distribution\n",
    "def poisson_pmf(x, lambda_):\n",
    "    return (lambda_ ** x * math.exp(-lambda_)) / math.factorial(x)\n",
    "\n",
    "# Example usage\n",
    "lambda_ = 3  # Average number of occurrences\n",
    "x = 2  # Number of occurrences to calculate PMF for\n",
    "\n",
    "pmf_value = poisson_pmf(x, lambda_)\n",
    "print(f\"PMF at x = {x} for Poisson({lambda_}): {pmf_value}\")\n"
   ]
  },
  {
   "cell_type": "code",
   "execution_count": 22,
   "metadata": {},
   "outputs": [
    {
     "name": "stdout",
     "output_type": "stream",
     "text": [
      "Z-statistic: -1.883108942886774\n",
      "P-value: 0.9701571972337869\n",
      "We fail to reject the null hypothesis. No significant difference between layouts.\n"
     ]
    }
   ],
   "source": [
    "import numpy as np\n",
    "from statsmodels.stats.proportion import proportions_ztest\n",
    "\n",
    "# Data: Number of successes and total samples\n",
    "old_layout_successes = 50\n",
    "old_layout_visitors = 1000\n",
    "\n",
    "new_layout_successes = 70\n",
    "new_layout_visitors = 1000\n",
    "\n",
    "\n",
    "successes = np.array([old_layout_successes, new_layout_successes])\n",
    "samples = np.array([old_layout_visitors, new_layout_visitors])\n",
    "\n",
    "# z-test\n",
    "z_stat, p_value = proportions_ztest(successes, samples, alternative='larger')\n",
    "\n",
    "print(f\"Z-statistic: {z_stat}\")\n",
    "print(f\"P-value: {p_value}\")\n",
    "\n",
    "\n",
    "if p_value < 0.05:\n",
    "    print(\"We reject the null hypothesis. The new layout is statistically significantly better.\")\n",
    "else:\n",
    "    print(\"We fail to reject the null hypothesis. No significant difference between layouts.\")\n"
   ]
  },
  {
   "cell_type": "code",
   "execution_count": 23,
   "metadata": {},
   "outputs": [
    {
     "name": "stdout",
     "output_type": "stream",
     "text": [
      "Z-statistic: 4.593190894944668\n",
      "P-value: 2.182597052671683e-06\n",
      "We reject the null hypothesis. The tutoring program significantly improved the exam scores.\n"
     ]
    }
   ],
   "source": [
    "import numpy as np\n",
    "from scipy import stats\n",
    "\n",
    "# Data: Scores before and after the program\n",
    "before_program = np.array([75, 80, 85, 70, 90, 78, 92, 88, 82, 87])\n",
    "after_program = np.array([80, 85, 90, 80, 92, 80, 95, 90, 85, 88])\n",
    "\n",
    "# Calculate the differences between after and before scores\n",
    "differences = after_program - before_program\n",
    "\n",
    "# Calculate the mean and standard deviation of the differences\n",
    "mean_difference = np.mean(differences)\n",
    "std_difference = np.std(differences, ddof=1)\n",
    "\n",
    "# Number of samples\n",
    "n = len(differences)\n",
    "\n",
    "# Calculate the z-statistic\n",
    "z_stat = mean_difference / (std_difference / np.sqrt(n))\n",
    "\n",
    "# Calculate the p-value (one-tailed test)\n",
    "p_value = stats.norm.sf(z_stat)  # 'sf' is the survival function (1 - CDF) for one-tailed test\n",
    "\n",
    "# Output the results\n",
    "print(f\"Z-statistic: {z_stat}\")\n",
    "print(f\"P-value: {p_value}\")\n",
    "\n",
    "# Conclusion\n",
    "if p_value < 0.05:\n",
    "    print(\"We reject the null hypothesis. The tutoring program significantly improved the exam scores.\")\n",
    "else:\n",
    "    print(\"We fail to reject the null hypothesis. The tutoring program did not significantly improve the exam scores.\")\n"
   ]
  },
  {
   "cell_type": "code",
   "execution_count": 24,
   "metadata": {},
   "outputs": [
    {
     "name": "stdout",
     "output_type": "stream",
     "text": [
      "Z-statistic: -10.049875621120888\n",
      "P-value: 4.599172203850193e-24\n",
      "We reject the null hypothesis. The drug is effective in reducing blood pressure.\n"
     ]
    }
   ],
   "source": [
    "import numpy as np\n",
    "from scipy import stats\n",
    "\n",
    "# Blood pressure measurements before and after administering the drug\n",
    "before_drug = np.array([145, 150, 140, 135, 155, 160, 152, 148, 130, 138])\n",
    "after_drug = np.array([130, 140, 132, 128, 145, 148, 138, 136, 125, 130])\n",
    "\n",
    "# Calculate the differences between after and before drug measurements\n",
    "differences = after_drug - before_drug\n",
    "\n",
    "# Calculate the mean and standard deviation of the differences\n",
    "mean_difference = np.mean(differences)\n",
    "std_difference = np.std(differences, ddof=1)\n",
    "\n",
    "n = len(differences)\n",
    "\n",
    "z_stat = mean_difference / (std_difference / np.sqrt(n))\n",
    "\n",
    "# Calculate the p-value (one-tailed test)\n",
    "p_value = stats.norm.cdf(z_stat)  \n",
    "\n",
    "print(f\"Z-statistic: {z_stat}\")\n",
    "print(f\"P-value: {p_value}\")\n",
    "\n",
    "if p_value < 0.05:\n",
    "    print(\"We reject the null hypothesis. The drug is effective in reducing blood pressure.\")\n",
    "else:\n",
    "    print(\"We fail to reject the null hypothesis. The drug is not effective in reducing blood pressure.\")\n"
   ]
  },
  {
   "cell_type": "code",
   "execution_count": 25,
   "metadata": {},
   "outputs": [
    {
     "name": "stdout",
     "output_type": "stream",
     "text": [
      "Z-statistic: -3.184457226042963\n",
      "P-value: 0.0007251287113068958\n",
      "We reject the null hypothesis. The average response time is less than 5 minutes.\n"
     ]
    }
   ],
   "source": [
    "import numpy as np\n",
    "from scipy import stats\n",
    "\n",
    "# Response times in minutes\n",
    "response_times = np.array([4.3, 3.8, 5.1, 4.9, 4.7, 4.2, 5.2, 4.5, 4.6, 4.4])\n",
    "\n",
    "# Population mean (claimed average response time)\n",
    "mu_0 = 5\n",
    "\n",
    "# Calculate sample mean and standard deviation\n",
    "sample_mean = np.mean(response_times)\n",
    "sample_std = np.std(response_times, ddof=1)\n",
    "\n",
    "# Sample size\n",
    "n = len(response_times)\n",
    "\n",
    "# Calculate the z-statistic\n",
    "z_stat = (sample_mean - mu_0) / (sample_std / np.sqrt(n))\n",
    "\n",
    "# Calculate the p-value for a one-tailed test\n",
    "p_value = stats.norm.cdf(z_stat)  # 'cdf' is for one-tailed test\n",
    "\n",
    "# Output the results\n",
    "print(f\"Z-statistic: {z_stat}\")\n",
    "print(f\"P-value: {p_value}\")\n",
    "\n",
    "# Conclusion\n",
    "if p_value < 0.05:\n",
    "    print(\"We reject the null hypothesis. The average response time is less than 5 minutes.\")\n",
    "else:\n",
    "    print(\"We fail to reject the null hypothesis. The average response time is not less than 5 minutes.\")\n"
   ]
  },
  {
   "cell_type": "code",
   "execution_count": 26,
   "metadata": {},
   "outputs": [
    {
     "name": "stdout",
     "output_type": "stream",
     "text": [
      "t-statistic: -7.298102156175071\n",
      "Degrees of freedom: 17.879871863320876\n",
      "P-value: 9.19659607134804e-07\n",
      "We reject the null hypothesis. The click-through rates are significantly different.\n"
     ]
    }
   ],
   "source": [
    "import numpy as np\n",
    "from scipy import stats\n",
    "\n",
    "def perform_ab_test(layout_a_clicks, layout_b_clicks):\n",
    "    # Calculate sample statistics for both layouts\n",
    "    mean_a = np.mean(layout_a_clicks)\n",
    "    mean_b = np.mean(layout_b_clicks)\n",
    "    \n",
    "    std_a = np.std(layout_a_clicks, ddof=1)\n",
    "    std_b = np.std(layout_b_clicks, ddof=1)\n",
    "    \n",
    "    n_a = len(layout_a_clicks)\n",
    "    n_b = len(layout_b_clicks)\n",
    "    \n",
    "    # Calculate the t-statistic\n",
    "    t_stat = (mean_a - mean_b) / np.sqrt((std_a**2 / n_a) + (std_b**2 / n_b))\n",
    "    \n",
    "    # Calculate the degrees of freedom\n",
    "    df = ((std_a**2 / n_a + std_b**2 / n_b)**2) / (((std_a**2 / n_a)**2 / (n_a - 1)) + ((std_b**2 / n_b)**2 / (n_b - 1)))\n",
    "    \n",
    "    # Calculate the p-value for a two-tailed test\n",
    "    p_value = 2 * (1 - stats.t.cdf(abs(t_stat), df))  # Two-tailed p-value\n",
    "    \n",
    "    # Output the results\n",
    "    print(f\"t-statistic: {t_stat}\")\n",
    "    print(f\"Degrees of freedom: {df}\")\n",
    "    print(f\"P-value: {p_value}\")\n",
    "    \n",
    "    # Conclusion based on p-value\n",
    "    if p_value < 0.05:\n",
    "        print(\"We reject the null hypothesis. The click-through rates are significantly different.\")\n",
    "    else:\n",
    "        print(\"We fail to reject the null hypothesis. There is no significant difference between the click-through rates.\")\n",
    "\n",
    "# Data for Layout A and Layout B\n",
    "layout_a_clicks = [28, 32, 33, 29, 31, 34, 30, 35, 36, 37]\n",
    "layout_b_clicks = [40, 41, 38, 42, 39, 44, 43, 41, 45, 47]\n",
    "\n",
    "# Perform A/B test\n",
    "perform_ab_test(layout_a_clicks, layout_b_clicks)\n"
   ]
  },
  {
   "cell_type": "code",
   "execution_count": 27,
   "metadata": {},
   "outputs": [
    {
     "name": "stdout",
     "output_type": "stream",
     "text": [
      "t-statistic: 4.140480986208661\n",
      "Degrees of freedom: 17.866770765582338\n",
      "P-value: 0.9996885385527265\n",
      "We fail to reject the null hypothesis. The new drug is not more effective than the existing drug.\n"
     ]
    }
   ],
   "source": [
    "import numpy as np\n",
    "from scipy import stats\n",
    "\n",
    "def analyze_drug_effect(existing_drug_levels, new_drug_levels):\n",
    "    # Calculate sample statistics for both drugs\n",
    "    mean_existing = np.mean(existing_drug_levels)\n",
    "    mean_new = np.mean(new_drug_levels)\n",
    "    \n",
    "    std_existing = np.std(existing_drug_levels, ddof=1)\n",
    "    std_new = np.std(new_drug_levels, ddof=1)\n",
    "    \n",
    "    n_existing = len(existing_drug_levels)\n",
    "    n_new = len(new_drug_levels)\n",
    "    \n",
    "\n",
    "    t_stat = (mean_existing - mean_new) / np.sqrt((std_existing**2 / n_existing) + (std_new**2 / n_new))\n",
    "    \n",
    "    \n",
    "    df = ((std_existing**2 / n_existing + std_new**2 / n_new)**2) / (((std_existing**2 / n_existing)**2 / (n_existing - 1)) + ((std_new**2 / n_new)**2 / (n_new - 1)))\n",
    "    \n",
    "    p_value = stats.t.cdf(t_stat, df)  \n",
    "    \n",
    "    \n",
    "    print(f\"t-statistic: {t_stat}\")\n",
    "    print(f\"Degrees of freedom: {df}\")\n",
    "    print(f\"P-value: {p_value}\")\n",
    "    \n",
    "    \n",
    "    if p_value < 0.05:\n",
    "        print(\"We reject the null hypothesis. The new drug is more effective than the existing drug.\")\n",
    "    else:\n",
    "        print(\"We fail to reject the null hypothesis. The new drug is not more effective than the existing drug.\")\n",
    "\n",
    "\n",
    "existing_drug_levels = [180, 182, 175, 185, 178, 176, 172, 184, 179, 183]\n",
    "new_drug_levels = [170, 172, 165, 168, 175, 173, 170, 178, 172, 176]\n",
    "\n",
    "\n",
    "analyze_drug_effect(existing_drug_levels, new_drug_levels)\n",
    "\n"
   ]
  },
  {
   "cell_type": "code",
   "execution_count": 28,
   "metadata": {},
   "outputs": [
    {
     "name": "stdout",
     "output_type": "stream",
     "text": [
      "t-statistic: 4.428408839657611\n",
      "Degrees of freedom: 9\n",
      "P-value: 0.0016509548165795493\n",
      "We reject the null hypothesis. The intervention had a significant impact on math scores.\n"
     ]
    }
   ],
   "source": [
    "import numpy as np\n",
    "from scipy import stats\n",
    "\n",
    "def analyze_intervention_effect(pre_intervention_scores, post_intervention_scores):\n",
    "    # Calculate the differences between pre- and post-scores\n",
    "    differences = np.array(post_intervention_scores) - np.array(pre_intervention_scores)\n",
    "    \n",
    "    # Calculate the mean and standard deviation of the differences\n",
    "    mean_difference = np.mean(differences)\n",
    "    std_difference = np.std(differences, ddof=1)\n",
    "    \n",
    "    # Number of students (sample size)\n",
    "    n = len(differences)\n",
    "    \n",
    "    # Calculate the t-statistic\n",
    "    t_stat = mean_difference / (std_difference / np.sqrt(n))\n",
    "    \n",
    "    # Calculate the degrees of freedom\n",
    "    df = n - 1\n",
    "    \n",
    "    # Calculate the p-value for a two-tailed test\n",
    "    p_value = stats.t.sf(np.abs(t_stat), df) * 2  # Two-tailed test\n",
    "    \n",
    "    # Output the results\n",
    "    print(f\"t-statistic: {t_stat}\")\n",
    "    print(f\"Degrees of freedom: {df}\")\n",
    "    print(f\"P-value: {p_value}\")\n",
    "    \n",
    "    # Conclusion based on p-value\n",
    "    if p_value < 0.05:\n",
    "        print(\"We reject the null hypothesis. The intervention had a significant impact on math scores.\")\n",
    "    else:\n",
    "        print(\"We fail to reject the null hypothesis. The intervention did not have a significant impact on math scores.\")\n",
    "\n",
    "# Pre- and post-intervention scores\n",
    "pre_intervention_scores = [80, 85, 90, 75, 88, 82, 92, 78, 85, 87]\n",
    "post_intervention_scores = [90, 92, 88, 92, 95, 91, 96, 93, 89, 93]\n",
    "\n",
    "# Perform the analysis\n",
    "analyze_intervention_effect(pre_intervention_scores, post_intervention_scores)\n"
   ]
  },
  {
   "cell_type": "code",
   "execution_count": 29,
   "metadata": {},
   "outputs": [
    {
     "name": "stdout",
     "output_type": "stream",
     "text": [
      "t-statistic: 0.06114208969631383\n",
      "P-value: 0.9515665020676465\n",
      "We fail to reject the null hypothesis. There is no significant salary gap between male and female employees.\n"
     ]
    }
   ],
   "source": [
    "import numpy as np\n",
    "from scipy import stats\n",
    "\n",
    "def analyze_salary_gap(male_salaries, female_salaries):\n",
    "    # Perform an independent t-test\n",
    "    t_stat, p_value = stats.ttest_ind(male_salaries, female_salaries)\n",
    "    \n",
    "    # Output the results\n",
    "    print(f\"t-statistic: {t_stat}\")\n",
    "    print(f\"P-value: {p_value}\")\n",
    "    \n",
    "    # Conclusion based on p-value\n",
    "    if p_value < 0.05:\n",
    "        print(\"We reject the null hypothesis. There is a significant salary gap between male and female employees.\")\n",
    "    else:\n",
    "        print(\"We fail to reject the null hypothesis. There is no significant salary gap between male and female employees.\")\n",
    "\n",
    "# Generate synthetic salary data for male and female employees\n",
    "np.random.seed(0)  # For reproducibility\n",
    "\n",
    "male_salaries = np.random.normal(loc=50000, scale=10000, size=20)\n",
    "female_salaries = np.random.normal(loc=55000, scale=9000, size=20)\n",
    "\n",
    "# Perform the analysis\n",
    "analyze_salary_gap(male_salaries, female_salaries)\n"
   ]
  },
  {
   "cell_type": "code",
   "execution_count": 30,
   "metadata": {},
   "outputs": [
    {
     "name": "stdout",
     "output_type": "stream",
     "text": [
      "t-statistic: 11.325830417646698\n",
      "P-value: 3.6824250702873965e-15\n",
      "We reject the null hypothesis. There is a significant difference in quality between the two versions.\n"
     ]
    }
   ],
   "source": [
    "import numpy as np\n",
    "from scipy import stats\n",
    "\n",
    "def compare_quality(version1_scores, version2_scores):\n",
    "    # Perform an independent t-test\n",
    "    t_stat, p_value = stats.ttest_ind(version1_scores, version2_scores)\n",
    "    \n",
    "    # Output the results\n",
    "    print(f\"t-statistic: {t_stat}\")\n",
    "    print(f\"P-value: {p_value}\")\n",
    "    \n",
    "    # Conclusion based on p-value\n",
    "    if p_value < 0.05:\n",
    "        print(\"We reject the null hypothesis. There is a significant difference in quality between the two versions.\")\n",
    "    else:\n",
    "        print(\"We fail to reject the null hypothesis. There is no significant difference in quality between the two versions.\")\n",
    "\n",
    "# Data for version 1 and version 2\n",
    "version1_scores = [85, 88, 82, 89, 87, 84, 90, 88, 85, 86, 91, 83, 87, 84, 89, 86, 84, 88, 85, 86, 89, 90, 87, 88, 85]\n",
    "version2_scores = [80, 78, 83, 81, 79, 82, 76, 80, 78, 81, 77, 82, 80, 79, 82, 79, 80, 81, 79, 82, 79, 78, 80, 81, 82]\n",
    "\n",
    "# Perform the analysis\n",
    "compare_quality(version1_scores, version2_scores)\n"
   ]
  },
  {
   "cell_type": "code",
   "execution_count": 31,
   "metadata": {},
   "outputs": [
    {
     "name": "stdout",
     "output_type": "stream",
     "text": [
      "t-statistic: 5.480077554195743\n",
      "P-value: 8.895290509945655e-07\n",
      "We reject the null hypothesis. There is a significant difference in customer satisfaction between the two branches.\n"
     ]
    }
   ],
   "source": [
    "import numpy as np\n",
    "from scipy import stats\n",
    "\n",
    "def compare_customer_satisfaction(branch_a_scores, branch_b_scores):\n",
    "    # Perform an independent t-test\n",
    "    t_stat, p_value = stats.ttest_ind(branch_a_scores, branch_b_scores)\n",
    "    \n",
    "    # Output the results\n",
    "    print(f\"t-statistic: {t_stat}\")\n",
    "    print(f\"P-value: {p_value}\")\n",
    "    \n",
    "    # Conclusion based on p-value\n",
    "    if p_value < 0.05:\n",
    "        print(\"We reject the null hypothesis. There is a significant difference in customer satisfaction between the two branches.\")\n",
    "    else:\n",
    "        print(\"We fail to reject the null hypothesis. There is no significant difference in customer satisfaction between the two branches.\")\n",
    "\n",
    "# Data for branch A and branch B\n",
    "branch_a_scores = [4, 5, 3, 4, 5, 4, 5, 3, 4, 4, 5, 4, 4, 3, 4, 5, 5, 4, 3, 4, 5, 4, 3, 5, 4, 4, 5, 3, 4, 5, 4]\n",
    "branch_b_scores = [3, 4, 2, 3, 4, 3, 4, 2, 3, 3, 4, 3, 3, 2, 3, 4, 4, 3, 2, 3, 4, 3, 2, 4, 3, 3, 4, 2, 3, 4, 3]\n",
    "\n",
    "# Perform the analysis\n",
    "compare_customer_satisfaction(branch_a_scores, branch_b_scores)\n"
   ]
  },
  {
   "cell_type": "code",
   "execution_count": 32,
   "metadata": {},
   "outputs": [
    {
     "name": "stdout",
     "output_type": "stream",
     "text": [
      "Chi-Square Statistic: 1.4401669758812612\n",
      "P-value: 0.48671161971286614\n",
      "Degrees of Freedom: 2\n",
      "Expected Frequency Table:\n",
      "[[5.6        6.4       ]\n",
      " [5.13333333 5.86666667]\n",
      " [3.26666667 3.73333333]]\n",
      "There is no significant association between age groups and voter preferences.\n"
     ]
    }
   ],
   "source": [
    "import numpy as np\n",
    "import pandas as pd\n",
    "from scipy.stats import chi2_contingency\n",
    "\n",
    "# Generate data\n",
    "np.random.seed(0)\n",
    "age_groups = np.random.choice(['18-30', '31-50', '51+'], size=30)\n",
    "voter_preferences = np.random.choice(['Candidate A', 'Candidate B'], size=30)\n",
    "\n",
    "# Create a contingency table\n",
    "data = pd.crosstab(age_groups, voter_preferences)\n",
    "\n",
    "# Perform Chi-Square test\n",
    "chi2, p, dof, expected = chi2_contingency(data)\n",
    "\n",
    "print(f\"Chi-Square Statistic: {chi2}\")\n",
    "print(f\"P-value: {p}\")\n",
    "print(f\"Degrees of Freedom: {dof}\")\n",
    "print(f\"Expected Frequency Table:\\n{expected}\")\n",
    "\n",
    "if p < 0.05:\n",
    "    print(\"There is a significant association between age groups and voter preferences.\")\n",
    "else:\n",
    "    print(\"There is no significant association between age groups and voter preferences.\")\n"
   ]
  },
  {
   "cell_type": "code",
   "execution_count": 33,
   "metadata": {},
   "outputs": [
    {
     "name": "stdout",
     "output_type": "stream",
     "text": [
      "Chi-Square Statistic: 27.777056277056275\n",
      "P-value: 0.00010349448486004387\n",
      "Degrees of Freedom: 6\n",
      "Expected Frequency Table:\n",
      "[[34.14634146 34.14634146 37.56097561 34.14634146]\n",
      " [36.58536585 36.58536585 40.24390244 36.58536585]\n",
      " [29.26829268 29.26829268 32.19512195 29.26829268]]\n",
      "There is a significant relationship between product satisfaction levels and customer regions.\n"
     ]
    }
   ],
   "source": [
    "import numpy as np\n",
    "from scipy.stats import chi2_contingency\n",
    "\n",
    "# Sample data: Product satisfaction levels (rows) vs. Customer regions (columns)\n",
    "data = np.array([[50, 30, 40, 20], [30, 40, 30, 50], [20, 30, 40, 30]])\n",
    "\n",
    "# Perform Chi-Square test\n",
    "chi2, p, dof, expected = chi2_contingency(data)\n",
    "\n",
    "print(f\"Chi-Square Statistic: {chi2}\")\n",
    "print(f\"P-value: {p}\")\n",
    "print(f\"Degrees of Freedom: {dof}\")\n",
    "print(f\"Expected Frequency Table:\\n{expected}\")\n",
    "\n",
    "if p < 0.05:\n",
    "    print(\"There is a significant relationship between product satisfaction levels and customer regions.\")\n",
    "else:\n",
    "    print(\"There is no significant relationship between product satisfaction levels and customer regions.\")\n"
   ]
  },
  {
   "cell_type": "code",
   "execution_count": 34,
   "metadata": {},
   "outputs": [
    {
     "name": "stdout",
     "output_type": "stream",
     "text": [
      "Chi-Square Statistic: 22.161728395061726\n",
      "P-value: 0.00018609719479882557\n",
      "Degrees of Freedom: 4\n",
      "Expected Frequency Table:\n",
      "[[34.48275862 34.48275862 31.03448276]\n",
      " [34.48275862 34.48275862 31.03448276]\n",
      " [31.03448276 31.03448276 27.93103448]]\n",
      "There is a significant difference in job performance levels before and after the training.\n"
     ]
    }
   ],
   "source": [
    "import numpy as np\n",
    "from scipy.stats import chi2_contingency\n",
    "\n",
    "# Sample data: Job performance levels before (rows) and after (columns) training\n",
    "data = np.array([[50, 30, 20], [30, 40, 30], [20, 30, 40]])\n",
    "\n",
    "# Perform Chi-Square test\n",
    "chi2, p, dof, expected = chi2_contingency(data)\n",
    "\n",
    "print(f\"Chi-Square Statistic: {chi2}\")\n",
    "print(f\"P-value: {p}\")\n",
    "print(f\"Degrees of Freedom: {dof}\")\n",
    "print(f\"Expected Frequency Table:\\n{expected}\")\n",
    "\n",
    "if p < 0.05:\n",
    "    print(\"There is a significant difference in job performance levels before and after the training.\")\n",
    "else:\n",
    "    print(\"There is no significant difference in job performance levels before and after the training.\")\n"
   ]
  },
  {
   "cell_type": "code",
   "execution_count": 35,
   "metadata": {},
   "outputs": [
    {
     "name": "stdout",
     "output_type": "stream",
     "text": [
      "F-Statistic: 27.03556231003039\n",
      "P-value: 3.5786328857349003e-07\n",
      "There is a significant difference in customer satisfaction scores among the product versions.\n"
     ]
    }
   ],
   "source": [
    "#24\n",
    "import numpy as np\n",
    "from scipy.stats import f_oneway\n",
    "\n",
    "# Sample data: Customer satisfaction scores for each product version\n",
    "standard_scores = [80, 85, 90, 78, 88, 82, 92, 78, 85, 87]\n",
    "premium_scores = [90, 92, 88, 92, 95, 91, 96, 93, 89, 93]\n",
    "deluxe_scores = [95, 98, 92, 97, 96, 94, 98, 97, 92, 99]\n",
    "\n",
    "# Perform ANOVA test\n",
    "f_statistic, p_value = f_oneway(standard_scores, premium_scores, deluxe_scores)\n",
    "\n",
    "print(f\"F-Statistic: {f_statistic}\")\n",
    "print(f\"P-value: {p_value}\")\n",
    "\n",
    "if p_value < 0.05:\n",
    "    print(\"There is a significant difference in customer satisfaction scores among the product versions.\")\n",
    "else:\n",
    "    print(\"There is no significant difference in customer satisfaction scores among the product versions.\")\n"
   ]
  },
  {
   "cell_type": "code",
   "execution_count": null,
   "metadata": {},
   "outputs": [],
   "source": []
  }
 ],
 "metadata": {
  "kernelspec": {
   "display_name": "base",
   "language": "python",
   "name": "python3"
  },
  "language_info": {
   "codemirror_mode": {
    "name": "ipython",
    "version": 3
   },
   "file_extension": ".py",
   "mimetype": "text/x-python",
   "name": "python",
   "nbconvert_exporter": "python",
   "pygments_lexer": "ipython3",
   "version": "3.11.5"
  }
 },
 "nbformat": 4,
 "nbformat_minor": 2
}
