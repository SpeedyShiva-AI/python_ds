{
 "cells": [
  {
   "cell_type": "code",
   "execution_count": 1,
   "id": "86777d83",
   "metadata": {},
   "outputs": [
    {
     "name": "stderr",
     "output_type": "stream",
     "text": [
      "DEPRECATION: Loading egg at c:\\users\\shiva\\python\\python312\\lib\\site-packages\\vboxapi-1.0-py3.12.egg is deprecated. pip 25.1 will enforce this behaviour change. A possible replacement is to use pip for package installation. Discussion can be found at https://github.com/pypa/pip/issues/12330\n",
      "ERROR: Could not find a version that satisfies the requirement tensorflow==2.0 (from versions: 2.16.0rc0, 2.16.1, 2.16.2, 2.17.0rc0, 2.17.0rc1, 2.17.0, 2.17.1, 2.18.0rc0, 2.18.0rc1, 2.18.0rc2, 2.18.0)\n",
      "\n",
      "[notice] A new release of pip is available: 24.3.1 -> 25.0\n",
      "[notice] To update, run: python.exe -m pip install --upgrade pip\n",
      "ERROR: No matching distribution found for tensorflow==2.0\n"
     ]
    }
   ],
   "source": [
    "# 1\n",
    "!pip install tensorflow==2.0"
   ]
  },
  {
   "cell_type": "code",
   "execution_count": 2,
   "id": "672944bf",
   "metadata": {},
   "outputs": [
    {
     "name": "stdout",
     "output_type": "stream",
     "text": [
      "2.18.0\n"
     ]
    }
   ],
   "source": [
    "# 2.\n",
    "import tensorflow as tf\n",
    "print(tf.__version__)"
   ]
  },
  {
   "cell_type": "code",
   "execution_count": 3,
   "id": "587c73c6",
   "metadata": {},
   "outputs": [
    {
     "name": "stdout",
     "output_type": "stream",
     "text": [
      "tf.Tensor(8, shape=(), dtype=int32)\n"
     ]
    }
   ],
   "source": [
    "#3.\n",
    "import tensorflow as tf\n",
    "def add_two_numbers(a, b):\n",
    "    return tf.add(a, b)\n",
    "\n",
    "result = add_two_numbers(tf.constant(3), tf.constant(5))\n",
    "print(result)\n"
   ]
  },
  {
   "cell_type": "code",
   "execution_count": 4,
   "id": "c7697ed8",
   "metadata": {},
   "outputs": [
    {
     "name": "stderr",
     "output_type": "stream",
     "text": [
      "c:\\Users\\shiva\\Python\\Python312\\Lib\\site-packages\\keras\\src\\layers\\core\\dense.py:87: UserWarning: Do not pass an `input_shape`/`input_dim` argument to a layer. When using Sequential models, prefer using an `Input(shape)` object as the first layer in the model instead.\n",
      "  super().__init__(activity_regularizer=activity_regularizer, **kwargs)\n"
     ]
    },
    {
     "data": {
      "text/html": [
       "<pre style=\"white-space:pre;overflow-x:auto;line-height:normal;font-family:Menlo,'DejaVu Sans Mono',consolas,'Courier New',monospace\"><span style=\"font-weight: bold\">Model: \"sequential\"</span>\n",
       "</pre>\n"
      ],
      "text/plain": [
       "\u001b[1mModel: \"sequential\"\u001b[0m\n"
      ]
     },
     "metadata": {},
     "output_type": "display_data"
    },
    {
     "data": {
      "text/html": [
       "<pre style=\"white-space:pre;overflow-x:auto;line-height:normal;font-family:Menlo,'DejaVu Sans Mono',consolas,'Courier New',monospace\">┏━━━━━━━━━━━━━━━━━━━━━━━━━━━━━━━━━┳━━━━━━━━━━━━━━━━━━━━━━━━┳━━━━━━━━━━━━━━━┓\n",
       "┃<span style=\"font-weight: bold\"> Layer (type)                    </span>┃<span style=\"font-weight: bold\"> Output Shape           </span>┃<span style=\"font-weight: bold\">       Param # </span>┃\n",
       "┡━━━━━━━━━━━━━━━━━━━━━━━━━━━━━━━━━╇━━━━━━━━━━━━━━━━━━━━━━━━╇━━━━━━━━━━━━━━━┩\n",
       "│ dense (<span style=\"color: #0087ff; text-decoration-color: #0087ff\">Dense</span>)                   │ (<span style=\"color: #00d7ff; text-decoration-color: #00d7ff\">None</span>, <span style=\"color: #00af00; text-decoration-color: #00af00\">64</span>)             │         <span style=\"color: #00af00; text-decoration-color: #00af00\">2,112</span> │\n",
       "├─────────────────────────────────┼────────────────────────┼───────────────┤\n",
       "│ dense_1 (<span style=\"color: #0087ff; text-decoration-color: #0087ff\">Dense</span>)                 │ (<span style=\"color: #00d7ff; text-decoration-color: #00d7ff\">None</span>, <span style=\"color: #00af00; text-decoration-color: #00af00\">12</span>)             │           <span style=\"color: #00af00; text-decoration-color: #00af00\">780</span> │\n",
       "└─────────────────────────────────┴────────────────────────┴───────────────┘\n",
       "</pre>\n"
      ],
      "text/plain": [
       "┏━━━━━━━━━━━━━━━━━━━━━━━━━━━━━━━━━┳━━━━━━━━━━━━━━━━━━━━━━━━┳━━━━━━━━━━━━━━━┓\n",
       "┃\u001b[1m \u001b[0m\u001b[1mLayer (type)                   \u001b[0m\u001b[1m \u001b[0m┃\u001b[1m \u001b[0m\u001b[1mOutput Shape          \u001b[0m\u001b[1m \u001b[0m┃\u001b[1m \u001b[0m\u001b[1m      Param #\u001b[0m\u001b[1m \u001b[0m┃\n",
       "┡━━━━━━━━━━━━━━━━━━━━━━━━━━━━━━━━━╇━━━━━━━━━━━━━━━━━━━━━━━━╇━━━━━━━━━━━━━━━┩\n",
       "│ dense (\u001b[38;5;33mDense\u001b[0m)                   │ (\u001b[38;5;45mNone\u001b[0m, \u001b[38;5;34m64\u001b[0m)             │         \u001b[38;5;34m2,112\u001b[0m │\n",
       "├─────────────────────────────────┼────────────────────────┼───────────────┤\n",
       "│ dense_1 (\u001b[38;5;33mDense\u001b[0m)                 │ (\u001b[38;5;45mNone\u001b[0m, \u001b[38;5;34m12\u001b[0m)             │           \u001b[38;5;34m780\u001b[0m │\n",
       "└─────────────────────────────────┴────────────────────────┴───────────────┘\n"
      ]
     },
     "metadata": {},
     "output_type": "display_data"
    },
    {
     "data": {
      "text/html": [
       "<pre style=\"white-space:pre;overflow-x:auto;line-height:normal;font-family:Menlo,'DejaVu Sans Mono',consolas,'Courier New',monospace\"><span style=\"font-weight: bold\"> Total params: </span><span style=\"color: #00af00; text-decoration-color: #00af00\">2,892</span> (11.30 KB)\n",
       "</pre>\n"
      ],
      "text/plain": [
       "\u001b[1m Total params: \u001b[0m\u001b[38;5;34m2,892\u001b[0m (11.30 KB)\n"
      ]
     },
     "metadata": {},
     "output_type": "display_data"
    },
    {
     "data": {
      "text/html": [
       "<pre style=\"white-space:pre;overflow-x:auto;line-height:normal;font-family:Menlo,'DejaVu Sans Mono',consolas,'Courier New',monospace\"><span style=\"font-weight: bold\"> Trainable params: </span><span style=\"color: #00af00; text-decoration-color: #00af00\">2,892</span> (11.30 KB)\n",
       "</pre>\n"
      ],
      "text/plain": [
       "\u001b[1m Trainable params: \u001b[0m\u001b[38;5;34m2,892\u001b[0m (11.30 KB)\n"
      ]
     },
     "metadata": {},
     "output_type": "display_data"
    },
    {
     "data": {
      "text/html": [
       "<pre style=\"white-space:pre;overflow-x:auto;line-height:normal;font-family:Menlo,'DejaVu Sans Mono',consolas,'Courier New',monospace\"><span style=\"font-weight: bold\"> Non-trainable params: </span><span style=\"color: #00af00; text-decoration-color: #00af00\">0</span> (0.00 B)\n",
       "</pre>\n"
      ],
      "text/plain": [
       "\u001b[1m Non-trainable params: \u001b[0m\u001b[38;5;34m0\u001b[0m (0.00 B)\n"
      ]
     },
     "metadata": {},
     "output_type": "display_data"
    }
   ],
   "source": [
    "\n",
    "# import tensorflow as tf\n",
    "# from tensorflow.keras.models import Sequential\n",
    "# from tensorflow.keras.layers import Dense\n",
    "\n",
    "# model = Sequential([\n",
    "#     Dense(64, activation='relu', input_shape=(32,)),\n",
    "#     Dense(12, activation='softmax')\n",
    "# ])\n",
    "\n",
    "# model.compile(optimizer='adam', loss='sparse_categorical_crossentropy', metrics=['accuracy'])\n",
    "# model.summary()\n"
   ]
  },
  {
   "cell_type": "code",
   "execution_count": null,
   "id": "73e98d60",
   "metadata": {},
   "outputs": [],
   "source": [
    "# 4 .\n",
    "import matplotlib.pyplot as plt\n",
    "\n",
    "history = model.fit(x_train, y_train, epochs=10, validation_data=(x_val, y_val))\n",
    "\n",
    "plt.plot(history.history['accuracy'], label='accuracy')\n",
    "plt.plot(history.history['val_accuracy'], label='val_accuracy')\n",
    "plt.xlabel('Epoch')\n",
    "plt.ylabel('Accuracy')\n",
    "plt.legend(loc='upper left')\n",
    "plt.show()\n"
   ]
  },
  {
   "cell_type": "code",
   "execution_count": 5,
   "id": "9e87c147",
   "metadata": {},
   "outputs": [
    {
     "name": "stderr",
     "output_type": "stream",
     "text": [
      "DEPRECATION: Loading egg at c:\\users\\shiva\\python\\python312\\lib\\site-packages\\vboxapi-1.0-py3.12.egg is deprecated. pip 25.1 will enforce this behaviour change. A possible replacement is to use pip for package installation. Discussion can be found at https://github.com/pypa/pip/issues/12330\n",
      "\n",
      "[notice] A new release of pip is available: 24.3.1 -> 25.0\n",
      "[notice] To update, run: python.exe -m pip install --upgrade pip\n"
     ]
    },
    {
     "name": "stdout",
     "output_type": "stream",
     "text": [
      "Requirement already satisfied: torch in c:\\users\\shiva\\python\\python312\\lib\\site-packages (2.5.1)\n",
      "Requirement already satisfied: filelock in c:\\users\\shiva\\python\\python312\\lib\\site-packages (from torch) (3.16.0)\n",
      "Requirement already satisfied: typing-extensions>=4.8.0 in c:\\users\\shiva\\python\\python312\\lib\\site-packages (from torch) (4.12.2)\n",
      "Requirement already satisfied: networkx in c:\\users\\shiva\\python\\python312\\lib\\site-packages (from torch) (3.3)\n",
      "Requirement already satisfied: jinja2 in c:\\users\\shiva\\python\\python312\\lib\\site-packages (from torch) (3.1.3)\n",
      "Requirement already satisfied: fsspec in c:\\users\\shiva\\python\\python312\\lib\\site-packages (from torch) (2024.9.0)\n",
      "Requirement already satisfied: setuptools in c:\\users\\shiva\\python\\python312\\lib\\site-packages (from torch) (69.5.1)\n",
      "Requirement already satisfied: sympy==1.13.1 in c:\\users\\shiva\\python\\python312\\lib\\site-packages (from torch) (1.13.1)\n",
      "Requirement already satisfied: mpmath<1.4,>=1.1.0 in c:\\users\\shiva\\python\\python312\\lib\\site-packages (from sympy==1.13.1->torch) (1.3.0)\n",
      "Requirement already satisfied: MarkupSafe>=2.0 in c:\\users\\shiva\\python\\python312\\lib\\site-packages (from jinja2->torch) (2.1.5)\n"
     ]
    }
   ],
   "source": [
    "#5\n",
    "!pip install torch"
   ]
  },
  {
   "cell_type": "code",
   "execution_count": 6,
   "id": "2a844bff",
   "metadata": {},
   "outputs": [
    {
     "name": "stdout",
     "output_type": "stream",
     "text": [
      "2.5.1+cpu\n"
     ]
    }
   ],
   "source": [
    "import torch\n",
    "print(torch.__version__)"
   ]
  },
  {
   "cell_type": "code",
   "execution_count": 10,
   "id": "fc1cbfbe",
   "metadata": {},
   "outputs": [],
   "source": [
    "#6.\n",
    "\n",
    "import torch\n",
    "import torch.nn as nn\n",
    "import torch.optim as optim\n",
    "\n",
    "class NN(nn.Module):\n",
    "    def __init__(self):\n",
    "        super(NN, self).__init__()\n",
    "        self.fc1 = nn.Linear(32, 64)\n",
    "        self.fc2 = nn.Linear(64, 10)\n",
    "        \n",
    "    def forward(self, x):\n",
    "        x = torch.relu(self.fc1(x))\n",
    "        x = self.fc2(x)\n",
    "        return x\n",
    "\n",
    "model = NN()\n"
   ]
  },
  {
   "cell_type": "code",
   "execution_count": 14,
   "id": "e66e68b7",
   "metadata": {},
   "outputs": [],
   "source": [
    "#7.\n",
    "criterion = nn.CrossEntropyLoss()\n",
    "optimizer = optim.Adam(model.parameters(), lr=0.01)\n"
   ]
  },
  {
   "cell_type": "code",
   "execution_count": null,
   "id": "899363f6",
   "metadata": {},
   "outputs": [],
   "source": [
    "\n"
   ]
  },
  {
   "cell_type": "code",
   "execution_count": 17,
   "id": "dc0332b4",
   "metadata": {},
   "outputs": [],
   "source": [
    "#9.\n",
    "# model.save('my_model')\n"
   ]
  },
  {
   "cell_type": "code",
   "execution_count": 18,
   "id": "7a06bc7c",
   "metadata": {},
   "outputs": [],
   "source": [
    "\n",
    "# loaded_model = tf.keras.models.load_model('my_model')\n"
   ]
  },
  {
   "cell_type": "code",
   "execution_count": 19,
   "id": "74407f3e",
   "metadata": {},
   "outputs": [],
   "source": [
    "\n",
    "# THEORY\n"
   ]
  },
  {
   "cell_type": "code",
   "execution_count": 20,
   "id": "8c5a686b",
   "metadata": {},
   "outputs": [],
   "source": [
    "# 1.\n",
    "# TensorFlow 2.0 is a major update to TensorFlow, which focuses on simplifying the API and improving usability. Key differences:\n",
    "\n",
    "# Eager execution by default (no need to create sessions).\n",
    "# Simplified API with more focus on high-level APIs like tf.keras.\n",
    "# Support for dynamic computation graphs instead of static graphs"
   ]
  },
  {
   "cell_type": "code",
   "execution_count": 21,
   "id": "77f6b84b",
   "metadata": {},
   "outputs": [],
   "source": [
    "# 2.pip install tensorflow==2.0"
   ]
  },
  {
   "cell_type": "code",
   "execution_count": null,
   "id": "89dfabc1",
   "metadata": {},
   "outputs": [],
   "source": [
    "#3 tf.function converts a Python function into a TensorFlow graph, optimizing performance by compiling it. It helps TensorFlow run code more efficiently, especially during training."
   ]
  },
  {
   "cell_type": "code",
   "execution_count": null,
   "id": "03195be4",
   "metadata": {},
   "outputs": [],
   "source": [
    "#4 The Model class in TensorFlow 2.0 is used to define, train, and evaluate machine learning models. You can either use the tf.keras.Model or subclass it to create custom models."
   ]
  },
  {
   "cell_type": "code",
   "execution_count": null,
   "id": "6a19f0c0",
   "metadata": {},
   "outputs": [],
   "source": [
    "# 5 \n",
    "# import tensorflow as tf\n",
    "# from tensorflow.keras.models import Sequential\n",
    "# from tensorflow.keras.layers import Dense\n",
    "\n",
    "# model = Sequential([\n",
    "#     Dense(64, activation='relu', input_shape=(32,)),\n",
    "#     Dense(10, activation='softmax')\n",
    "# ])\n",
    "\n",
    "# model.compile(optimizer='adam', loss='sparse_categorical_crossentropy', metrics=['accuracy'])\n",
    "\n"
   ]
  },
  {
   "cell_type": "code",
   "execution_count": null,
   "id": "c32fb4e0",
   "metadata": {},
   "outputs": [],
   "source": [
    "#6\n",
    "#  Tensor space refers to the multi-dimensional array (tensor) in TensorFlow that represents data. Tensors are the fundamental unit for TensorFlow operations, and TensorFlow's efficiency comes from being able to handle tensors in parallel across multiple devices."
   ]
  },
  {
   "cell_type": "code",
   "execution_count": null,
   "id": "3c93c9eb",
   "metadata": {},
   "outputs": [],
   "source": [
    "# 8\n",
    "# TensorFlow Playground is a web-based tool that allows you to visualize and experiment with neural networks. It's a great way to understand concepts like activation functions, layers, and optimization techniques without writing any code."
   ]
  },
  {
   "cell_type": "code",
   "execution_count": 23,
   "id": "46066d8a",
   "metadata": {},
   "outputs": [],
   "source": [
    "#9\n",
    "#  Netron is a tool that helps you visualize deep learning models. You can load models in formats like TensorFlow, Keras, and PyTorch and view their architecture in an interactive graphical format."
   ]
  },
  {
   "cell_type": "code",
   "execution_count": null,
   "id": "e5896cae",
   "metadata": {},
   "outputs": [],
   "source": [
    "#10\n",
    "#  TensorFlow has a more production-focused ecosystem, with tools like TensorFlow Serving, TensorFlow Lite, and TensorFlow.js.\n",
    "# PyTorch is more research-friendly with easier-to-use dynamic graphs, and it's commonly used for experimentation."
   ]
  },
  {
   "cell_type": "code",
   "execution_count": null,
   "id": "bff4a290",
   "metadata": {},
   "outputs": [],
   "source": [
    "# 11\n",
    "# pip install torch"
   ]
  },
  {
   "cell_type": "code",
   "execution_count": 24,
   "id": "f49ce107",
   "metadata": {},
   "outputs": [],
   "source": [
    "#13\n",
    "# Tensors are the core data structures in PyTorch, used for storing data in n-dimensional arrays. Operations are performed on these tensors, and they support GPU acceleration for faster computation."
   ]
  },
  {
   "cell_type": "code",
   "execution_count": 25,
   "id": "c69bc639",
   "metadata": {},
   "outputs": [],
   "source": [
    "# 14\n",
    "# torch.Tensor: A tensor that resides on the CPU.\n",
    "# torch.cuda.Tensor: A tensor that resides on the GPU, enabling faster computation."
   ]
  },
  {
   "cell_type": "code",
   "execution_count": null,
   "id": "f2635adc",
   "metadata": {},
   "outputs": [],
   "source": [
    "# 15 \n",
    "# 1The torch.optim module provides various optimization algorithms, like SGD and Adam, that are used to minimize loss functions during training."
   ]
  },
  {
   "cell_type": "code",
   "execution_count": null,
   "id": "3302ea72",
   "metadata": {},
   "outputs": [],
   "source": [
    "# 16\n",
    "# RELU,SIGMOID,TANH,SOFTMAX"
   ]
  },
  {
   "cell_type": "code",
   "execution_count": 26,
   "id": "37dc21b7",
   "metadata": {},
   "outputs": [],
   "source": [
    "# 17\n",
    "# torch.nn.Module: The base class for all models in PyTorch. You can define custom models by subclassing it.\n",
    "# torch.nn.Sequential: A container that allows you to stack layers sequentially"
   ]
  },
  {
   "cell_type": "code",
   "execution_count": 27,
   "id": "02d05e85",
   "metadata": {},
   "outputs": [],
   "source": [
    "#18\n",
    "#  We can use TensorBoard to monitor training progress we can also check the metrics during training using the history object."
   ]
  },
  {
   "cell_type": "code",
   "execution_count": 28,
   "id": "9735baf3",
   "metadata": {},
   "outputs": [],
   "source": [
    "# Keras is now integrated into TensorFlow 2.0 as tf.keras. It provides a high-level API for building and training models, making it easier to work with deep learning models in TensorFlow."
   ]
  },
  {
   "cell_type": "code",
   "execution_count": 29,
   "id": "ae4e9cb9",
   "metadata": {},
   "outputs": [],
   "source": [
    "# A simple project could be a digit recognizer using MNIST"
   ]
  },
  {
   "cell_type": "code",
   "execution_count": null,
   "id": "c7fb1098",
   "metadata": {},
   "outputs": [],
   "source": [
    "#21\n",
    "#  Pre-trained models save time and resources by leveraging knowledge gained from large datasets. You can use them for tasks like image classification, object detection, or NLP without training a model from scratch."
   ]
  }
 ],
 "metadata": {
  "kernelspec": {
   "display_name": "Python 3",
   "language": "python",
   "name": "python3"
  },
  "language_info": {
   "codemirror_mode": {
    "name": "ipython",
    "version": 3
   },
   "file_extension": ".py",
   "mimetype": "text/x-python",
   "name": "python",
   "nbconvert_exporter": "python",
   "pygments_lexer": "ipython3",
   "version": "3.12.4"
  }
 },
 "nbformat": 4,
 "nbformat_minor": 5
}
